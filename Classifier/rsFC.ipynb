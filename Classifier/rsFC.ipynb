{
 "cells": [
  {
   "cell_type": "code",
   "execution_count": 1,
   "metadata": {},
   "outputs": [],
   "source": [
    "import numpy as np\n",
    "import scipy.io\n",
    "import pandas as pd\n",
    "\n",
    "from statsmodels.stats import multitest\n",
    "from matplotlib import pyplot as plt\n",
    "from scipy import stats\n",
    "from pathlib import Path\n",
    "from sklearn.linear_model import LogisticRegression\n",
    "from sklearn.linear_model import Lasso\n",
    "from matplotlib import colors\n",
    "\n",
    "dataset_location = '../corrs/'"
   ]
  },
  {
   "cell_type": "code",
   "execution_count": 2,
   "metadata": {},
   "outputs": [
    {
     "data": {
      "text/plain": [
       "'C:\\\\Users\\\\sarah\\\\Documents\\\\university\\\\NSC\\\\0_SS21\\\\TNM\\\\project\\\\scripts'"
      ]
     },
     "execution_count": 2,
     "metadata": {},
     "output_type": "execute_result"
    }
   ],
   "source": [
    "pwd"
   ]
  },
  {
   "cell_type": "code",
   "execution_count": 3,
   "metadata": {},
   "outputs": [
    {
     "data": {
      "text/plain": [
       "(70876, 1)"
      ]
     },
     "execution_count": 3,
     "metadata": {},
     "output_type": "execute_result"
    }
   ],
   "source": [
    "# test read in \n",
    "corr_file = scipy.io.loadmat(dataset_location + 'correlation_components_0487.mat')\n",
    "corr = corr_file['corr_components']\n",
    "corr.shape"
   ]
  },
  {
   "cell_type": "code",
   "execution_count": 4,
   "metadata": {},
   "outputs": [
    {
     "data": {
      "text/plain": [
       "(array([  0,   0,   0, ..., 187, 187, 187], dtype=int64),\n",
       " array([  0,   1,   2, ..., 374, 375, 376], dtype=int64))"
      ]
     },
     "execution_count": 4,
     "metadata": {},
     "output_type": "execute_result"
    }
   ],
   "source": [
    "corr_idx = np.unravel_index(np.arange(len(corr)), (377, 377))\n",
    "corr_idx"
   ]
  },
  {
   "cell_type": "code",
   "execution_count": 5,
   "metadata": {},
   "outputs": [
    {
     "name": "stdout",
     "output_type": "stream",
     "text": [
      "min corr:  -0.7635846317736905  | max corr:  0.9377611026210455  | mean corr;  0.06329223946909276\n"
     ]
    }
   ],
   "source": [
    "print('min corr: ', np.min(corr),' | max corr: ', np.max(corr),' | mean corr; ', np.mean(corr))"
   ]
  },
  {
   "cell_type": "code",
   "execution_count": 6,
   "metadata": {},
   "outputs": [
    {
     "data": {
      "text/plain": [
       "<function matplotlib.pyplot.show(*args, **kw)>"
      ]
     },
     "execution_count": 6,
     "metadata": {},
     "output_type": "execute_result"
    },
    {
     "data": {
      "image/png": "[encoded data removed]",
      "text/plain": [
       "<Figure size 432x288 with 1 Axes>"
      ]
     },
     "metadata": {
      "needs_background": "light"
     },
     "output_type": "display_data"
    }
   ],
   "source": [
    "plt.hist(corr)\r\n",
    "plt.show()"
   ]
  },
  {
   "cell_type": "code",
   "execution_count": 7,
   "metadata": {},
   "outputs": [],
   "source": [
    "def flatt2mat(vec, dim):\r\n",
    "    full_mat = np.zeros((dim, dim))\r\n",
    "    triangle_indi = np.tril_indices(dim, -1) # we didn't save the main diagonal (would have been all ones)\r\n",
    "    triangle_indi_order = np.argsort(triangle_indi[1], kind='stable') # annoyingly, these go row-by-row, but MATLAB outputted the data column-by-column\r\n",
    "    triangle_indi = tuple(np.array(triangle_indi)[:,triangle_indi_order]) # sort the column indices to fix it\r\n",
    "\r\n",
    "    full_mat[triangle_indi] = vec.flatten()\r\n",
    "        \r\n",
    "    return full_mat"
   ]
  },
  {
   "cell_type": "code",
   "execution_count": 8,
   "metadata": {},
   "outputs": [
    {
     "data": {
      "text/plain": [
       "(377, 376)"
      ]
     },
     "execution_count": 8,
     "metadata": {},
     "output_type": "execute_result"
    }
   ],
   "source": [
    "corr_full = flatt2mat(corr, 377)\r\n",
    "corr_full.shape"
   ]
  },
  {
   "cell_type": "code",
   "execution_count": 9,
   "metadata": {},
   "outputs": [
    {
     "data": {
      "text/plain": [
       "<matplotlib.colorbar.Colorbar at 0x16e7055dc50>"
      ]
     },
     "execution_count": 9,
     "metadata": {},
     "output_type": "execute_result"
    },
    {
     "data": {
      "image/png": "[encoded data removed]",
      "text/plain": [
       "<Figure size 432x288 with 2 Axes>"
      ]
     },
     "metadata": {
      "needs_background": "light"
     },
     "output_type": "display_data"
    }
   ],
   "source": [
    "# make a color map of fixed colors\n",
    "cmap = colors.ListedColormap(['blue', 'gray', 'red'])\n",
    "bounds=[np.min(corr),-0.2,0.2,np.max(corr)]\n",
    "norm = colors.BoundaryNorm(bounds, cmap.N)\n",
    "\n",
    "# tell imshow about color map so that only set colors are used\n",
    "img = plt.imshow(corr_full, interpolation='nearest', cmap=cmap, norm=norm)\n",
    "\n",
    "# make a color bar\n",
    "plt.colorbar(img, cmap=cmap, norm=norm, boundaries=bounds, ticks=[0, 5, 10])"
   ]
  },
  {
   "cell_type": "code",
   "execution_count": 10,
   "metadata": {},
   "outputs": [
    {
     "data": {
      "text/plain": [
       "(124, 70876)"
      ]
     },
     "execution_count": 10,
     "metadata": {},
     "output_type": "execute_result"
    }
   ],
   "source": [
    "# read in  correlation data \r\n",
    "corr_folder = Path(dataset_location).rglob('*.mat')\r\n",
    "files = [x for x in corr_folder]\r\n",
    "\r\n",
    "all_corrs = np.zeros((len(files), corr.shape[0] ))\r\n",
    "\r\n",
    "for idx, name in enumerate(files):\r\n",
    "    corr_file = scipy.io.loadmat(name)\r\n",
    "    corr = corr_file['corr_components']\r\n",
    "    if np.any(np.np.isnan(corr)):\r\n",
    "        print(f'There are NaNs in subject {name}!')\r\n",
    "    all_corrs[idx] = np.squeeze(corr)\r\n",
    "                    \r\n",
    "all_corrs.shape"
   ]
  },
  {
   "cell_type": "code",
   "execution_count": 11,
   "metadata": {},
   "outputs": [
    {
     "data": {
      "text/plain": [
       "array([0, 1, 0, 1, 0, 1, 0, 1, 1, 0, 0, 0, 1, 0, 1, 0, 1, 0, 1, 1, 0, 1,\n",
       "       0, 1, 0, 1, 1, 0, 1, 0, 1, 0, 1, 0, 1, 0, 1, 0, 1, 0, 1, 0, 1, 1,\n",
       "       0, 1, 1, 0, 1, 0, 1, 0, 1, 0, 1, 1, 1, 1, 0, 1, 1, 1, 1, 1, 1, 1,\n",
       "       0, 1, 1, 1, 0, 1, 1, 1, 0, 1, 0, 1, 1, 0, 1, 0, 0, 1, 1, 1, 1, 0,\n",
       "       0, 0, 0, 0, 0, 0, 0, 0, 0, 0, 0, 0, 0, 0, 0, 0, 0, 0, 0, 0, 0, 0,\n",
       "       0, 0, 0, 0, 0, 1, 1, 1, 1, 1, 1, 1, 1, 1])"
      ]
     },
     "execution_count": 11,
     "metadata": {},
     "output_type": "execute_result"
    }
   ],
   "source": [
    "participants = pd.read_table('../translational-neuromodelling-mdd/SRPBS_OPEN/participants.tsv')\n",
    "labels = np.zeros((len(files)))\n",
    "                  \n",
    "# create labels \n",
    "for idx, name in enumerate(files):\n",
    "    subID = 'sub-' + name.name[-8:-4]\n",
    "    labels[idx] = int(participants[participants['participant_id'] == subID]['diag'])\n",
    "\n",
    "labels = (labels / 2).astype(int)\n",
    "labels"
   ]
  },
  {
   "cell_type": "code",
   "execution_count": 12,
   "metadata": {},
   "outputs": [
    {
     "data": {
      "text/plain": [
       "(62, 70876)"
      ]
     },
     "execution_count": 12,
     "metadata": {},
     "output_type": "execute_result"
    }
   ],
   "source": [
    "# dinstinguish between mdd and hc \n",
    "controls = all_corrs[labels == 0]\n",
    "patients = all_corrs[labels == 1]\n",
    "controls.shape"
   ]
  },
  {
   "cell_type": "code",
   "execution_count": 13,
   "metadata": {},
   "outputs": [],
   "source": [
    "# compute averages \r\n",
    "controls_avg = np.mean(controls, 0)\r\n",
    "patients_avg = np.mean(patients, 0)\r\n",
    "\r\n",
    "controls_avg_full = flatt2mat(controls_avg, 377)\r\n",
    "patients_avg_full = flatt2mat(patients_avg, 377)"
   ]
  },
  {
   "cell_type": "code",
   "execution_count": 14,
   "metadata": {},
   "outputs": [
    {
     "data": {
      "image/png": "[encoded data removed]",
      "text/plain": [
       "<Figure size 432x288 with 1 Axes>"
      ]
     },
     "metadata": {
      "needs_background": "light"
     },
     "output_type": "display_data"
    }
   ],
   "source": [
    "plt.hist(controls_avg)\n",
    "plt.show()"
   ]
  },
  {
   "cell_type": "code",
   "execution_count": 15,
   "metadata": {},
   "outputs": [
    {
     "data": {
      "image/png": "[encoded data removed]",
      "text/plain": [
       "<Figure size 432x288 with 1 Axes>"
      ]
     },
     "metadata": {
      "needs_background": "light"
     },
     "output_type": "display_data"
    }
   ],
   "source": [
    "plt.hist(patients_avg)\n",
    "plt.show()"
   ]
  },
  {
   "cell_type": "code",
   "execution_count": 16,
   "metadata": {},
   "outputs": [
    {
     "data": {
      "image/png": "[encoded data removed]",
      "text/plain": [
       "<Figure size 1080x720 with 4 Axes>"
      ]
     },
     "metadata": {
      "needs_background": "light"
     },
     "output_type": "display_data"
    }
   ],
   "source": [
    "# make a color map of fixed colors\n",
    "cmap = colors.ListedColormap(['blue', 'gray', 'red'])\n",
    "bounds_c = [np.min(controls_avg),-0.15, 0.15, np.max(controls_avg)]\n",
    "bounds_p = [np.min(patients_avg),-0.15, 0.15, np.max(patients_avg)]\n",
    "norm_c = colors.BoundaryNorm(bounds_c, cmap.N)\n",
    "norm_p = colors.BoundaryNorm(bounds_p, cmap.N)\n",
    "\n",
    "fig, ax = plt.subplots(1, 2, figsize=(15, 10))\n",
    "\n",
    "ax[0].set_title('Average correlation of Healthy Controls')\n",
    "img1 = ax[0].imshow(controls_avg_full, interpolation='nearest', cmap=cmap, norm=norm_c)\n",
    "fig.colorbar(img1, ax=ax[0], cmap=cmap, norm=norm_c, boundaries=bounds_c, shrink=0.5)\n",
    "\n",
    "ax[1].set_title('Average correlation of Patients')\n",
    "img2 = ax[1].imshow(patients_avg_full, interpolation='nearest', cmap=cmap, norm=norm_p)\n",
    "fig.colorbar(img2, ax=ax[1], cmap=cmap, norm=norm_p, boundaries=bounds_p, shrink=0.5)\n",
    "\n",
    "plt.tight_layout()\n",
    "plt.show() "
   ]
  },
  {
   "cell_type": "code",
   "execution_count": 17,
   "metadata": {},
   "outputs": [
    {
     "data": {
      "text/plain": [
       "5370"
      ]
     },
     "execution_count": 17,
     "metadata": {},
     "output_type": "execute_result"
    }
   ],
   "source": [
    "#do a t-test\n",
    "statss, pvals = stats.ttest_ind(patients, controls)\n",
    "sum(pvals <= 0.05)"
   ]
  },
  {
   "cell_type": "code",
   "execution_count": 18,
   "metadata": {},
   "outputs": [
    {
     "data": {
      "text/plain": [
       "(array([ 2625,  2761,  2957,  2993,  3129,  3325,  8070,  8386, 22147,\n",
       "        25816, 33695, 47214, 47215, 58793, 70710], dtype=int64),)"
      ]
     },
     "execution_count": 18,
     "metadata": {},
     "output_type": "execute_result"
    }
   ],
   "source": [
    "analysis = multitest.multipletests(pvals, alpha=0.05, method='fdr_bh', is_sorted=False)\n",
    "np.where(analysis[0])"
   ]
  },
  {
   "cell_type": "code",
   "execution_count": 19,
   "metadata": {},
   "outputs": [],
   "source": [
    "all_corrs = np.nan_to_num(all_corrs)"
   ]
  },
  {
   "cell_type": "code",
   "execution_count": 20,
   "metadata": {},
   "outputs": [
    {
     "data": {
      "text/plain": [
       "0.7083333333333334"
      ]
     },
     "execution_count": 20,
     "metadata": {},
     "output_type": "execute_result"
    }
   ],
   "source": [
    "clf = LogisticRegression(random_state=1).fit(all_corrs[:100, :], labels[:100])\n",
    "clf.score(all_corrs[100:, :],labels[100:])"
   ]
  },
  {
   "cell_type": "code",
   "execution_count": 21,
   "metadata": {},
   "outputs": [
    {
     "data": {
      "text/plain": [
       "-0.02229021913244167"
      ]
     },
     "execution_count": 21,
     "metadata": {},
     "output_type": "execute_result"
    }
   ],
   "source": [
    "clf_lasso = Lasso(0.1, fit_intercept=False, max_iter=1000).fit(all_corrs[:100, :], labels[:100])\n",
    "clf_lasso.score(all_corrs[100:, :], labels[100:])"
   ]
  },
  {
   "cell_type": "code",
   "execution_count": null,
   "metadata": {},
   "outputs": [],
   "source": []
  }
 ],
 "metadata": {
  "kernelspec": {
   "display_name": "Python 3.9.4 64-bit",
   "name": "python394jvsc74a57bd01edce0b25732ef697872fcbeacb22edaf72c3789e6a34e8653bd03b41c1dfc41"
  },
  "language_info": {
   "codemirror_mode": {
    "name": "ipython",
    "version": 3
   },
   "file_extension": ".py",
   "mimetype": "text/x-python",
   "name": "python",
   "nbconvert_exporter": "python",
   "pygments_lexer": "ipython3",
   "version": "3.9.4"
  }
 },
 "nbformat": 4,
 "nbformat_minor": 4
}