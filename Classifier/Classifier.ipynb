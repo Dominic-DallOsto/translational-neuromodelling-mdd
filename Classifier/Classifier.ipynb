{
  "nbformat": 4,
  "nbformat_minor": 0,
  "metadata": {
    "colab": {
      "name": "Classifier.ipynb",
      "provenance": [],
      "toc_visible": true,
      "authorship_tag": "ABX9TyPWzO0iBUHxvj2ql8YY4kiQ",
      "include_colab_link": true
    },
    "kernelspec": {
      "name": "python3",
      "display_name": "Python 3"
    },
    "language_info": {
      "name": "python"
    }
  },
  "cells": [
    {
      "cell_type": "markdown",
      "metadata": {
        "id": "view-in-github",
        "colab_type": "text"
      },
      "source": [
        "<a href=\"https://colab.research.google.com/github/Dominic-DallOsto/translational-neuromodelling-mdd/blob/master/Classifier/Classifier.ipynb\" target=\"_parent\"><img src=\"https://colab.research.google.com/assets/colab-badge.svg\" alt=\"Open In Colab\"/></a>"
      ]
    },
    {
      "cell_type": "markdown",
      "metadata": {
        "id": "1kFYAl9OFI0q"
      },
      "source": [
        "### Classifying MDD Patients"
      ]
    },
    {
      "cell_type": "code",
      "metadata": {
        "id": "AeUGwyW6FOoW",
        "colab": {
          "base_uri": "https://localhost:8080/"
        },
        "outputId": "b706bb3a-8b4d-4595-b4b9-2a84e6173ff0"
      },
      "source": [
        "import numpy as np\n",
        "import matplotlib.pyplot as plt\n",
        "import os\n",
        "import glob\n",
        "from google.colab import drive\n",
        "from scipy.io import loadmat\n",
        "import pandas as pd\n",
        "from tqdm import tqdm\n",
        "from sklearn.model_selection import GridSearchCV\n",
        "from sklearn.metrics import confusion_matrix, ConfusionMatrixDisplay\n",
        "\n",
        "# mount your google drive\n",
        "drive.mount('/content/drive')"
      ],
      "execution_count": 109,
      "outputs": [
        {
          "output_type": "stream",
          "text": [
            "Drive already mounted at /content/drive; to attempt to forcibly remount, call drive.mount(\"/content/drive\", force_remount=True).\n"
          ],
          "name": "stdout"
        }
      ]
    },
    {
      "cell_type": "code",
      "metadata": {
        "id": "78kRfGmoXFxG",
        "colab": {
          "base_uri": "https://localhost:8080/"
        },
        "outputId": "15d3e3b7-9925-443e-bef2-e419413bd411"
      },
      "source": [
        "root_path = \"/content/drive/MyDrive/translational-neuromodelling-mdd/\"\n",
        "A_mat_dir = \"A_mats/\"\n",
        "corr_dir = \"corr/\"\n",
        "\n",
        "# Get a list for .mat files in current folder\n",
        "# Choose A_mat_dir for rDCM output, or corr_dir for correlation components\n",
        "mat_files = glob.glob(root_path + A_mat_dir + '*.mat') \n",
        "\n",
        "# Import patient info\n",
        "participants = pd.read_table(root_path + 'participants.tsv')\n",
        "participants = participants.dropna()\n",
        "\n",
        "# List for stroring all the data and labels\n",
        "X = []\n",
        "y = []\n",
        "\n",
        "# Iterate mat files\n",
        "for fname in tqdm(mat_files):\n",
        "    # Load mat file data into data.\n",
        "    data = loadmat(fname)\n",
        "    id = int(os.path.basename(fname).split('.')[0][-4:]) - 1\n",
        "\n",
        "    # Append data to the list\n",
        "    X.append(data[\"A\"])\n",
        "\n",
        "    # Append diag label\n",
        "    if participants[\"diag\"][int(id)] == 2: # MDD\n",
        "      y.append(0)\n",
        "    elif participants[\"diag\"][int(id)] == 0: # control\n",
        "      y.append(1)\n",
        "    else:\n",
        "      print(\"ID: \", id)\n",
        "      print(\"Diag: \", participants[\"diag\"][int(id)])"
      ],
      "execution_count": 65,
      "outputs": [
        {
          "output_type": "stream",
          "text": [
            "100%|██████████| 124/124 [00:01<00:00, 79.61it/s]\n"
          ],
          "name": "stderr"
        }
      ]
    },
    {
      "cell_type": "code",
      "metadata": {
        "id": "opb5OtcTocvb"
      },
      "source": [
        "X = np.array(X) # Convert list of X into numpy array\n",
        "nsamples, nx, ny = X.shape\n",
        "X = X.reshape((nsamples,nx*ny)) # Convert 3D matrix to 2D input vector\n",
        "X_train = X[:100]\n",
        "X_test = X[100:]\n",
        "y_train = y[:100]\n",
        "y_test = y[100:]"
      ],
      "execution_count": 84,
      "outputs": []
    },
    {
      "cell_type": "code",
      "metadata": {
        "colab": {
          "base_uri": "https://localhost:8080/"
        },
        "id": "qvz2A4kbrp-1",
        "outputId": "4420aa5f-387e-4604-d0e7-b739f9e47bcd"
      },
      "source": [
        ""
      ],
      "execution_count": 74,
      "outputs": [
        {
          "output_type": "execute_result",
          "data": {
            "text/plain": [
              "(377, 377)"
            ]
          },
          "metadata": {
            "tags": []
          },
          "execution_count": 74
        }
      ]
    },
    {
      "cell_type": "markdown",
      "metadata": {
        "id": "MUwf_QI_GIdX"
      },
      "source": [
        "## Lasso\n",
        "\n",
        "The Lasso is a linear model that estimates sparse coefficients. It is useful in some contexts due to its tendency to prefer solutions with fewer non-zero coefficients, effectively reducing the number of features upon which the given solution is dependent. For this reason Lasso and its variants are fundamental to the field of compressed sensing. Under certain conditions, it can recover the exact set of non-zero coefficients"
      ]
    },
    {
      "cell_type": "code",
      "metadata": {
        "id": "94JMEqJ0JxNQ"
      },
      "source": [
        "from sklearn import linear_model"
      ],
      "execution_count": 56,
      "outputs": []
    },
    {
      "cell_type": "code",
      "metadata": {
        "id": "fod97eTSFYq9"
      },
      "source": [
        "# Run CV on Lasso classifier for alpha parameter optimisation\n",
        "# Source: https://scikit-learn.org/stable/auto_examples/exercises/plot_cv_diabetes.html#sphx-glr-auto-examples-exercises-plot-cv-diabetes-py\n",
        "\n",
        "alphas = np.logspace(-4, -0.5, 30)\n",
        "tuned_parameters = [{'alpha': alphas}]\n",
        "n_folds = 5\n",
        "lasso = linear_model.Lasso(random_state=0, max_iter=10000)\n",
        "clf = GridSearchCV(lasso, param_grid=tuned_parameters, cv=n_folds, refit=False)\n",
        "clf.fit(X, y)\n",
        "scores = clf.cv_results_['mean_test_score']\n",
        "scores_std = clf.cv_results_['std_test_score']"
      ],
      "execution_count": 85,
      "outputs": []
    },
    {
      "cell_type": "code",
      "metadata": {
        "id": "aneWZ_EyIKnG",
        "colab": {
          "base_uri": "https://localhost:8080/",
          "height": 409
        },
        "outputId": "f458a370-3f66-4286-c370-6e59d0370005"
      },
      "source": [
        "# Plot the CV results\n",
        "\n",
        "plt.figure().set_size_inches(8, 6)\n",
        "plt.semilogx(alphas, scores)\n",
        "\n",
        "# plot error lines showing +/- std. errors of the scores\n",
        "std_error = scores_std / np.sqrt(n_folds)\n",
        "\n",
        "plt.semilogx(alphas, scores + std_error, 'b--')\n",
        "plt.semilogx(alphas, scores - std_error, 'b--')\n",
        "\n",
        "# alpha=0.2 controls the translucency of the fill color\n",
        "plt.fill_between(alphas, scores + std_error, scores - std_error, alpha=0.2)\n",
        "\n",
        "plt.ylabel('CV score +/- std error')\n",
        "plt.xlabel('alpha')\n",
        "plt.axhline(np.max(scores), linestyle='--', color='.5')\n",
        "plt.xlim([alphas[0], alphas[-1]])"
      ],
      "execution_count": 86,
      "outputs": [
        {
          "output_type": "execute_result",
          "data": {
            "text/plain": [
              "(0.0001, 0.31622776601683794)"
            ]
          },
          "metadata": {
            "tags": []
          },
          "execution_count": 86
        },
        {
          "output_type": "display_data",
          "data": {
            "image/png": "[encoded data removed]",
            "text/plain": [
              "<Figure size 576x432 with 1 Axes>"
            ]
          },
          "metadata": {
            "tags": [],
            "needs_background": "light"
          }
        }
      ]
    },
    {
      "cell_type": "code",
      "metadata": {
        "id": "F5jMzvpGvd_z",
        "outputId": "fc800080-1185-4077-95d4-d652e43a405b",
        "colab": {
          "base_uri": "https://localhost:8080/"
        }
      },
      "source": [
        "clf = linear_model.Lasso(alpha=10e-1, max_iter=10000)\n",
        "clf.fit(X_train, y_train)"
      ],
      "execution_count": 93,
      "outputs": [
        {
          "output_type": "execute_result",
          "data": {
            "text/plain": [
              "Lasso(alpha=1.0, copy_X=True, fit_intercept=True, max_iter=10000,\n",
              "      normalize=False, positive=False, precompute=False, random_state=None,\n",
              "      selection='cyclic', tol=0.0001, warm_start=False)"
            ]
          },
          "metadata": {
            "tags": []
          },
          "execution_count": 93
        }
      ]
    },
    {
      "cell_type": "code",
      "metadata": {
        "id": "-9tUinUsv0Gm",
        "outputId": "d0557bf6-3801-4eda-af07-80b40028854a",
        "colab": {
          "base_uri": "https://localhost:8080/"
        }
      },
      "source": [
        "clf.score(X_test, y_test)"
      ],
      "execution_count": 94,
      "outputs": [
        {
          "output_type": "execute_result",
          "data": {
            "text/plain": [
              "-0.0439314285714285"
            ]
          },
          "metadata": {
            "tags": []
          },
          "execution_count": 94
        }
      ]
    },
    {
      "cell_type": "markdown",
      "metadata": {
        "id": "HeLPBVKaJsBI"
      },
      "source": [
        "## Random Forest\n",
        "\n",
        "A random forest is a meta estimator that fits a number of decision tree classifiers on various sub-samples of the dataset and uses averaging to improve the predictive accuracy and control over-fitting. The sub-sample size is controlled with the max_samples parameter if bootstrap=True (default), otherwise the whole dataset is used to build each tree."
      ]
    },
    {
      "cell_type": "code",
      "metadata": {
        "id": "UTjJgQRVJtTa"
      },
      "source": [
        "from sklearn.ensemble import RandomForestClassifier"
      ],
      "execution_count": 95,
      "outputs": []
    },
    {
      "cell_type": "code",
      "metadata": {
        "id": "mndd4pikJ39k",
        "colab": {
          "base_uri": "https://localhost:8080/"
        },
        "outputId": "b385737b-918d-418c-b37b-912f2da732e7"
      },
      "source": [
        "clf = RandomForestClassifier(max_depth=2, random_state=0)\n",
        "clf.fit(X_train, y_train)\n",
        "preds = clf.predict(X_test)\n",
        "clf.score(X_test, y_test)"
      ],
      "execution_count": 104,
      "outputs": [
        {
          "output_type": "execute_result",
          "data": {
            "text/plain": [
              "0.6666666666666666"
            ]
          },
          "metadata": {
            "tags": []
          },
          "execution_count": 104
        }
      ]
    },
    {
      "cell_type": "code",
      "metadata": {
        "id": "x2GKnfNszSAG",
        "outputId": "8b2f2844-b9f1-4a48-d1c5-8e09c0306fcb",
        "colab": {
          "base_uri": "https://localhost:8080/"
        }
      },
      "source": [
        "data = {'Real':  y_test,\n",
        "        'Pred': preds}\n",
        "\n",
        "df = pd.DataFrame (data, columns = ['Real','Pred'])\n",
        "\n",
        "print (df)"
      ],
      "execution_count": 106,
      "outputs": [
        {
          "output_type": "stream",
          "text": [
            "    Real  Pred\n",
            "0      1     1\n",
            "1      0     0\n",
            "2      0     0\n",
            "3      0     0\n",
            "4      0     0\n",
            "5      0     0\n",
            "6      1     0\n",
            "7      1     1\n",
            "8      1     1\n",
            "9      1     0\n",
            "10     1     0\n",
            "11     0     1\n",
            "12     1     1\n",
            "13     0     0\n",
            "14     1     0\n",
            "15     0     0\n",
            "16     1     1\n",
            "17     1     0\n",
            "18     0     0\n",
            "19     1     1\n",
            "20     1     0\n",
            "21     0     0\n",
            "22     1     1\n",
            "23     1     0\n"
          ],
          "name": "stdout"
        }
      ]
    },
    {
      "cell_type": "code",
      "metadata": {
        "id": "erNMvyKM0q3j",
        "outputId": "c796f901-29a4-4204-b5a3-80c0931a7f5c",
        "colab": {
          "base_uri": "https://localhost:8080/",
          "height": 300
        }
      },
      "source": [
        "cm = confusion_matrix(y_test, preds)\n",
        "disp = ConfusionMatrixDisplay(confusion_matrix=cm,display_labels=clf.classes_)\n",
        "disp.plot() "
      ],
      "execution_count": 110,
      "outputs": [
        {
          "output_type": "execute_result",
          "data": {
            "text/plain": [
              "<sklearn.metrics._plot.confusion_matrix.ConfusionMatrixDisplay at 0x7fa22f2ba690>"
            ]
          },
          "metadata": {
            "tags": []
          },
          "execution_count": 110
        },
        {
          "output_type": "display_data",
          "data": {
            "image/png": "[encoded data removed]",
            "text/plain": [
              "<Figure size 432x288 with 2 Axes>"
            ]
          },
          "metadata": {
            "tags": [],
            "needs_background": "light"
          }
        }
      ]
    },
    {
      "cell_type": "markdown",
      "metadata": {
        "id": "_wLuLmmsKcg2"
      },
      "source": [
        "## CNN\n",
        "\n",
        "Following this tutorial: https://medium.com/techiepedia/binary-image-classifier-cnn-using-tensorflow-a3f5d6746697"
      ]
    },
    {
      "cell_type": "code",
      "metadata": {
        "id": "D_opYLuZKefh"
      },
      "source": [
        "import tensorflow as tf\n",
        "from tensorflow import keras\n",
        "from tensorflow.keras.preprocessing.image import ImageDataGenerator\n",
        "from tensorflow.keras.preprocessing import image"
      ],
      "execution_count": 111,
      "outputs": []
    },
    {
      "cell_type": "code",
      "metadata": {
        "id": "nCAvwxfaRgbP"
      },
      "source": [
        "train = ImageDataGenerator()\n",
        "test = ImageDataGenerator()\n",
        "\n",
        "train_dataset = train.flow_from_directory(\"C:/Users/ksbal/Desktop/CodeBasicML/PetImages/Train/\",\n",
        "                                          target_size=(150,150),\n",
        "                                          batch_size = 32,\n",
        "                                          class_mode = 'binary')\n",
        "                                         \n",
        "test_dataset = test.flow_from_directory(\"C:/Users/ksbal/Desktop/CodeBasicML/PetImages/Test/\",\n",
        "                                          target_size=(150,150),\n",
        "                                          batch_size =32,\n",
        "                                          class_mode = 'binary')"
      ],
      "execution_count": null,
      "outputs": []
    },
    {
      "cell_type": "code",
      "metadata": {
        "id": "lQUVkVkETsgi"
      },
      "source": [
        "# Check your encoded class labels\n",
        "test_dataset.class_indices"
      ],
      "execution_count": null,
      "outputs": []
    },
    {
      "cell_type": "code",
      "metadata": {
        "id": "FXoRx2WwTyKo"
      },
      "source": [
        "model = keras.Sequential()\n",
        "\n",
        "# Convolutional layer and maxpool layer 1\n",
        "model.add(keras.layers.Conv2D(32,(3,3),activation='relu',input_shape=(269,269,1)))\n",
        "model.add(keras.layers.MaxPool2D(2,2))\n",
        "\n",
        "# Convolutional layer and maxpool layer 2\n",
        "model.add(keras.layers.Conv2D(64,(3,3),activation='relu'))\n",
        "model.add(keras.layers.MaxPool2D(2,2))\n",
        "\n",
        "# Convolutional layer and maxpool layer 3\n",
        "model.add(keras.layers.Conv2D(128,(3,3),activation='relu'))\n",
        "model.add(keras.layers.MaxPool2D(2,2))\n",
        "\n",
        "# Convolutional layer and maxpool layer 4\n",
        "model.add(keras.layers.Conv2D(128,(3,3),activation='relu'))\n",
        "model.add(keras.layers.MaxPool2D(2,2))\n",
        "\n",
        "# This layer flattens the resulting image array to 1D array\n",
        "model.add(keras.layers.Flatten())\n",
        "\n",
        "# Hidden layer with 512 neurons and Rectified Linear Unit activation function \n",
        "model.add(keras.layers.Dense(512,activation='relu'))\n",
        "\n",
        "# Output layer with single neuron which gives 0 for MDD or 1 for Control\n",
        "#Here we use sigmoid activation function which makes our model output to lie between 0 and 1\n",
        "model.add(keras.layers.Dense(1,activation='sigmoid'))"
      ],
      "execution_count": null,
      "outputs": []
    },
    {
      "cell_type": "code",
      "metadata": {
        "id": "AnnPnZ1FUd-5"
      },
      "source": [
        "model.compile(optimizer='adam',loss='binary_crossentropy',metrics=['accuracy'])"
      ],
      "execution_count": null,
      "outputs": []
    },
    {
      "cell_type": "code",
      "metadata": {
        "id": "fK4ntGjyUixe"
      },
      "source": [
        "#steps_per_epoch = train_imagesize/batch_size\n",
        "\n",
        "model.fit_generator(train_dataset,\n",
        "         steps_per_epoch = 250,\n",
        "         epochs = 10,\n",
        "         validation_data = test_dataset)"
      ],
      "execution_count": null,
      "outputs": []
    },
    {
      "cell_type": "code",
      "metadata": {
        "id": "Lib8XLP4U2vF"
      },
      "source": [
        "model.predict()"
      ],
      "execution_count": null,
      "outputs": []
    }
  ]
}