{
  "cells": [
    {
      "cell_type": "code",
      "execution_count": 1,
      "metadata": {
        "id": "YP8BmbtUm7fZ"
      },
      "outputs": [],
      "source": [
        "import numpy as np\r\n",
        "import scipy.io\r\n",
        "import pandas as pd\r\n",
        "\r\n",
        "from statsmodels.stats import multitest\r\n",
        "import matplotlib.pyplot as plt\r\n",
        "from scipy import stats\r\n",
        "from pathlib import Path\r\n",
        "from sklearn.linear_model import LogisticRegression\r\n",
        "from sklearn.linear_model import Lasso\r\n",
        "from matplotlib import colors\r\n",
        "\r\n",
        "import neuroCombat\r\n",
        "\r\n",
        "dataset_location = '../corrs/'"
      ]
    },
    {
      "cell_type": "code",
      "execution_count": 2,
      "metadata": {
        "id": "_figCS7sm7fa",
        "outputId": "d40c0931-a437-47a0-f825-25016c6fdde2"
      },
      "outputs": [
        {
          "data": {
            "text/plain": "(70876, 1)"
          },
          "execution_count": 2,
          "metadata": {},
          "output_type": "execute_result"
        }
      ],
      "source": [
        "# test read in \n",
        "corr_file = scipy.io.loadmat(dataset_location + 'correlation_components_0487.mat')\n",
        "corr = corr_file['corr_components']\n",
        "corr.shape"
      ]
    },
    {
      "cell_type": "code",
      "execution_count": 3,
      "metadata": {
        "id": "b37JAk0em7fd",
        "outputId": "0f416aa8-80b3-4e74-cc94-d6b7d871470a"
      },
      "outputs": [
        {
          "data": {
            "text/plain": "(1043, 70876)"
          },
          "execution_count": 3,
          "metadata": {},
          "output_type": "execute_result"
        }
      ],
      "source": [
        "# read in correlation data \r\n",
        "corr_folder = Path(dataset_location).rglob('*.mat')\r\n",
        "files = [x for x in corr_folder]\r\n",
        "\r\n",
        "all_corrs = np.zeros((len(files), corr.shape[0]))\r\n",
        "subject_ids = [int(file.name[-8:-4]) for file in files]\r\n",
        "\r\n",
        "for idx, name in enumerate(files):\r\n",
        "    corr_file = scipy.io.loadmat(name)\r\n",
        "    corr = corr_file['corr_components']\r\n",
        "    all_corrs[idx] = np.squeeze(corr)\r\n",
        "                    \r\n",
        "all_corrs = np.nan_to_num(all_corrs)\r\n",
        "all_corrs.shape"
      ]
    },
    {
      "cell_type": "code",
      "execution_count": 4,
      "metadata": {
        "id": "S55Am0kem7fd",
        "outputId": "9cfd2492-d865-4528-9612-f2063ff671ca"
      },
      "outputs": [],
      "source": [
        "participants = pd.read_table('../SRPBS_OPEN/participants.tsv')\r\n",
        "\r\n",
        "participant_data = participants[[int(name[-4:]) in subject_ids for name in participants.participant_id.to_numpy()]]\r\n",
        "\r\n",
        "all_sites = list(np.unique(participants.site.to_numpy()))\r\n",
        "participant_label = participant_data.diag.to_numpy() / 2\r\n",
        "participant_age = participant_data.age.to_numpy()\r\n",
        "participant_sex = participant_data.sex.to_numpy() - 1\r\n",
        "participant_hand = participant_data.hand.to_numpy() - 1\r\n",
        "participant_site = [all_sites.index(site) for site in participant_data.site.to_numpy()]\r\n",
        "participant_protocol = participant_data.protocol.to_numpy()"
      ]
    },
    {
      "cell_type": "code",
      "execution_count": 5,
      "metadata": {
        "id": "04y8KjpJm7fe",
        "outputId": "b9b49aac-a496-4a54-c5d6-605d859a6740"
      },
      "outputs": [
        {
          "data": {
            "text/plain": "(791, 70876)"
          },
          "execution_count": 5,
          "metadata": {},
          "output_type": "execute_result"
        }
      ],
      "source": [
        "# dinstinguish between mdd and hc \r\n",
        "controls = all_corrs[participant_label == 0]\r\n",
        "patients = all_corrs[participant_label == 1]\r\n",
        "controls.shape"
      ]
    },
    {
      "cell_type": "code",
      "execution_count": 6,
      "metadata": {},
      "outputs": [
        {
          "data": {
            "text/html": "<div>\n<style scoped>\n    .dataframe tbody tr th:only-of-type {\n        vertical-align: middle;\n    }\n\n    .dataframe tbody tr th {\n        vertical-align: top;\n    }\n\n    .dataframe thead th {\n        text-align: right;\n    }\n</style>\n<table border=\"1\" class=\"dataframe\">\n  <thead>\n    <tr style=\"text-align: right;\">\n      <th></th>\n      <th>protocol</th>\n      <th>age</th>\n      <th>sex</th>\n      <th>hand</th>\n    </tr>\n  </thead>\n  <tbody>\n    <tr>\n      <th>0</th>\n      <td>1</td>\n      <td>23</td>\n      <td>1</td>\n      <td>1.0</td>\n    </tr>\n    <tr>\n      <th>1</th>\n      <td>1</td>\n      <td>23</td>\n      <td>2</td>\n      <td>1.0</td>\n    </tr>\n    <tr>\n      <th>2</th>\n      <td>1</td>\n      <td>26</td>\n      <td>1</td>\n      <td>1.0</td>\n    </tr>\n    <tr>\n      <th>3</th>\n      <td>1</td>\n      <td>23</td>\n      <td>1</td>\n      <td>1.0</td>\n    </tr>\n    <tr>\n      <th>4</th>\n      <td>1</td>\n      <td>24</td>\n      <td>1</td>\n      <td>1.0</td>\n    </tr>\n    <tr>\n      <th>...</th>\n      <td>...</td>\n      <td>...</td>\n      <td>...</td>\n      <td>...</td>\n    </tr>\n    <tr>\n      <th>1381</th>\n      <td>14</td>\n      <td>40</td>\n      <td>1</td>\n      <td>1.0</td>\n    </tr>\n    <tr>\n      <th>1382</th>\n      <td>14</td>\n      <td>31</td>\n      <td>2</td>\n      <td>1.0</td>\n    </tr>\n    <tr>\n      <th>1383</th>\n      <td>14</td>\n      <td>37</td>\n      <td>1</td>\n      <td>1.0</td>\n    </tr>\n    <tr>\n      <th>1384</th>\n      <td>14</td>\n      <td>20</td>\n      <td>2</td>\n      <td>1.0</td>\n    </tr>\n    <tr>\n      <th>1385</th>\n      <td>14</td>\n      <td>44</td>\n      <td>2</td>\n      <td>1.0</td>\n    </tr>\n  </tbody>\n</table>\n<p>1043 rows × 4 columns</p>\n</div>",
            "text/plain": "      protocol  age  sex  hand\n0            1   23    1   1.0\n1            1   23    2   1.0\n2            1   26    1   1.0\n3            1   23    1   1.0\n4            1   24    1   1.0\n...        ...  ...  ...   ...\n1381        14   40    1   1.0\n1382        14   31    2   1.0\n1383        14   37    1   1.0\n1384        14   20    2   1.0\n1385        14   44    2   1.0\n\n[1043 rows x 4 columns]"
          },
          "execution_count": 6,
          "metadata": {},
          "output_type": "execute_result"
        }
      ],
      "source": [
        "participant_data[['protocol','age','sex','hand']]"
      ]
    },
    {
      "cell_type": "code",
      "execution_count": 12,
      "metadata": {},
      "outputs": [],
      "source": [
        "rand_perm = np.random.permutation(all_corrs.shape[0])\r\n",
        "train_ids = rand_perm[:800]\r\n",
        "test_ids = rand_perm[800:]\r\n",
        "train_select = np.zeros(all_corrs.shape[0], dtype=bool)\r\n",
        "test_select = np.zeros(all_corrs.shape[0], dtype=bool)\r\n",
        "train_select[train_ids] = True\r\n",
        "test_select[test_ids] = True"
      ]
    },
    {
      "cell_type": "code",
      "execution_count": 13,
      "metadata": {
        "id": "MBwVAgpem7fg",
        "outputId": "aa46c2a0-4862-4fc4-d847-491150ae096b"
      },
      "outputs": [
        {
          "name": "stdout",
          "output_type": "stream",
          "text": [
            "[neuroCombat] Creating design matrix\n",
            "[neuroCombat] Standardizing data across features\n",
            "[neuroCombat] Fitting L/S model and finding priors\n",
            "[neuroCombat] Finding parametric adjustments\n",
            "[neuroCombat] Final adjustment of data\n",
            "[neuroCombatFromTraining] In development ...\n",
            "\n"
          ]
        }
      ],
      "source": [
        "covars = participant_data[['protocol','age','sex','hand']]\r\n",
        "\r\n",
        "harmonised_result = neuroCombat.neuroCombat(all_corrs[train_select, :].T, covars[train_select], batch_col='protocol', categorical_cols=['sex','hand'], continuous_cols=['age'])\r\n",
        "protocols_test = np.array(covars[test_select], dtype='object')[:,0] # need this to make it the right format...\r\n",
        "harmonised_result_test = neuroCombat.neuroCombatFromTraining(all_corrs[test_select, :].T, protocols_test, harmonised_result['estimates'])\r\n",
        "\r\n",
        "X_train = harmonised_result['data'].T\r\n",
        "Y_train = participant_label[train_select]\r\n",
        "X_test = harmonised_result_test['data'].T\r\n",
        "Y_test = participant_label[test_select]"
      ]
    },
    {
      "cell_type": "markdown",
      "metadata": {},
      "source": [
        "### Without harmonisation"
      ]
    },
    {
      "cell_type": "code",
      "execution_count": 21,
      "metadata": {},
      "outputs": [
        {
          "name": "stdout",
          "output_type": "stream",
          "text": [
            "train prediction: 76.125% 0, 23.875% 1,\n",
            "train accuracy: 1.0\n",
            "test prediction: 81.89300411522633% 0, 18.106995884773664% 1,\n",
            "test accuracy: 0.7818930041152263\n"
          ]
        }
      ],
      "source": [
        "clf = LogisticRegression(random_state=1, max_iter=1000).fit(all_corrs[train_select, :], Y_train)\r\n",
        "train_prediction = clf.predict(all_corrs[train_select, :])\r\n",
        "print(f'train prediction: {100*np.count_nonzero(1-train_prediction)/len(train_prediction)}% 0, {100*np.count_nonzero(train_prediction)/len(train_prediction)}% 1,')\r\n",
        "print(f'train accuracy: {clf.score(all_corrs[train_select, :], Y_train)}')\r\n",
        "test_prediction = clf.predict(all_corrs[test_select, :])\r\n",
        "print(f'test prediction: {100*np.count_nonzero(1-test_prediction)/len(test_prediction)}% 0, {100*np.count_nonzero(test_prediction)/len(test_prediction)}% 1,')\r\n",
        "print(f'test accuracy: {clf.score(all_corrs[test_select, :], Y_test)}')"
      ]
    },
    {
      "cell_type": "markdown",
      "metadata": {},
      "source": [
        "### With harmonisation"
      ]
    },
    {
      "cell_type": "code",
      "execution_count": 22,
      "metadata": {},
      "outputs": [
        {
          "name": "stdout",
          "output_type": "stream",
          "text": [
            "train prediction: 76.125% 0, 23.875% 1,\n",
            "train accuracy: 1.0\n",
            "test prediction: 86.0082304526749% 0, 13.991769547325102% 1,\n",
            "test accuracy: 0.7407407407407407\n"
          ]
        }
      ],
      "source": [
        "clf = LogisticRegression(random_state=1, max_iter=1000).fit(X_train, Y_train)\r\n",
        "train_prediction = clf.predict(X_train)\r\n",
        "print(f'train prediction: {100*np.count_nonzero(1-train_prediction)/len(train_prediction)}% 0, {100*np.count_nonzero(train_prediction)/len(train_prediction)}% 1,')\r\n",
        "print(f'train accuracy: {clf.score(X_train, Y_train)}')\r\n",
        "test_prediction = clf.predict(X_test)\r\n",
        "print(f'test prediction: {100*np.count_nonzero(1-test_prediction)/len(test_prediction)}% 0, {100*np.count_nonzero(test_prediction)/len(test_prediction)}% 1,')\r\n",
        "print(f'test accuracy: {clf.score(X_test, Y_test)}')"
      ]
    }
  ],
  "metadata": {
    "kernelspec": {
      "display_name": "Python 3.9.4 64-bit",
      "name": "python394jvsc74a57bd01edce0b25732ef697872fcbeacb22edaf72c3789e6a34e8653bd03b41c1dfc41"
    },
    "language_info": {
      "codemirror_mode": {
        "name": "ipython",
        "version": 3
      },
      "file_extension": ".py",
      "mimetype": "text/x-python",
      "name": "python",
      "nbconvert_exporter": "python",
      "pygments_lexer": "ipython3",
      "version": "3.9.4"
    },
    "orig_nbformat": 3
  },
  "nbformat": 4,
  "nbformat_minor": 0
}