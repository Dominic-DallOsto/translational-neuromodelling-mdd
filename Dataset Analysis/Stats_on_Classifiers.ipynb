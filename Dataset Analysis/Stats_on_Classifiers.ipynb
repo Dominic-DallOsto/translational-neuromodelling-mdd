{
 "cells": [
  {
   "cell_type": "code",
   "execution_count": 2,
   "metadata": {},
   "outputs": [],
   "source": [
    "import numpy as np\r\n",
    "import pandas as pd\r\n",
    "\r\n",
    "from matplotlib import pyplot as plt\r\n",
    "from scipy import stats\r\n",
    "\r\n",
    "# maybe not used\r\n",
    "from statsmodels.multivariate import manova\r\n",
    "from matplotlib import colors\r\n",
    "\r\n",
    "# made a hard link to the dataset here\r\n",
    "path_aMats = '../A_mats/' \r\n",
    "path_corr = '../corrs/' \r\n",
    "path_subInfo = '../SRPBS_OPEN/participants.tsv'\r\n",
    "classifier_folder = '../Classifier/'"
   ]
  },
  {
   "cell_type": "code",
   "execution_count": null,
   "metadata": {},
   "outputs": [],
   "source": [
    "# load the overall classifier performance\n",
    "\n",
    "classifier_performance = pd.read_csv(classifier_folder + 'classifierperformance_overall.csv', delimiter = \";\")"
   ]
  },
  {
   "cell_type": "code",
   "execution_count": null,
   "metadata": {},
   "outputs": [],
   "source": [
    "# divide the overall classifier performance into A-matrices and correlations\n",
    "\n",
    "a_matrices = [1,3,5,7,9]\n",
    "corr = [0,2,4,6,8]\n",
    "a_matrix_performance = classifier_performance.loc[a_matrices,:]\n",
    "corr_performance = classifier_performance.loc[corr,:]"
   ]
  },
  {
   "cell_type": "code",
   "execution_count": 15,
   "metadata": {},
   "outputs": [
    {
     "data": {
      "text/html": [
       "<div>\n",
       "<style scoped>\n",
       "    .dataframe tbody tr th:only-of-type {\n",
       "        vertical-align: middle;\n",
       "    }\n",
       "\n",
       "    .dataframe tbody tr th {\n",
       "        vertical-align: top;\n",
       "    }\n",
       "\n",
       "    .dataframe thead th {\n",
       "        text-align: right;\n",
       "    }\n",
       "</style>\n",
       "<table border=\"1\" class=\"dataframe\">\n",
       "  <thead>\n",
       "    <tr style=\"text-align: right;\">\n",
       "      <th></th>\n",
       "      <th>DATASETS</th>\n",
       "      <th>Train Acc</th>\n",
       "      <th>Train Balanced Acc</th>\n",
       "      <th>Train F1</th>\n",
       "      <th>Test Acc</th>\n",
       "      <th>Test Balanced Acc</th>\n",
       "      <th>Test F1</th>\n",
       "    </tr>\n",
       "  </thead>\n",
       "  <tbody>\n",
       "    <tr>\n",
       "      <th>1</th>\n",
       "      <td>all_amats</td>\n",
       "      <td>0.76</td>\n",
       "      <td>0.84</td>\n",
       "      <td>0.66</td>\n",
       "      <td>0.47</td>\n",
       "      <td>0.57</td>\n",
       "      <td>0.43</td>\n",
       "    </tr>\n",
       "    <tr>\n",
       "      <th>3</th>\n",
       "      <td>inliers_amats</td>\n",
       "      <td>0.72</td>\n",
       "      <td>0.83</td>\n",
       "      <td>0.63</td>\n",
       "      <td>0.46</td>\n",
       "      <td>0.58</td>\n",
       "      <td>0.43</td>\n",
       "    </tr>\n",
       "    <tr>\n",
       "      <th>5</th>\n",
       "      <td>inliers_amats</td>\n",
       "      <td>0.73</td>\n",
       "      <td>0.83</td>\n",
       "      <td>0.63</td>\n",
       "      <td>0.47</td>\n",
       "      <td>0.63</td>\n",
       "      <td>0.48</td>\n",
       "    </tr>\n",
       "    <tr>\n",
       "      <th>7</th>\n",
       "      <td>all_amats</td>\n",
       "      <td>0.73</td>\n",
       "      <td>0.82</td>\n",
       "      <td>0.63</td>\n",
       "      <td>0.46</td>\n",
       "      <td>0.62</td>\n",
       "      <td>0.47</td>\n",
       "    </tr>\n",
       "    <tr>\n",
       "      <th>9</th>\n",
       "      <td>all_amats</td>\n",
       "      <td>0.84</td>\n",
       "      <td>0.89</td>\n",
       "      <td>0.74</td>\n",
       "      <td>0.46</td>\n",
       "      <td>0.55</td>\n",
       "      <td>0.41</td>\n",
       "    </tr>\n",
       "  </tbody>\n",
       "</table>\n",
       "</div>"
      ],
      "text/plain": [
       "        DATASETS  Train Acc  Train Balanced Acc  Train F1  Test Acc  \\\n",
       "1      all_amats       0.76                0.84      0.66      0.47   \n",
       "3  inliers_amats       0.72                0.83      0.63      0.46   \n",
       "5  inliers_amats       0.73                0.83      0.63      0.47   \n",
       "7      all_amats       0.73                0.82      0.63      0.46   \n",
       "9      all_amats       0.84                0.89      0.74      0.46   \n",
       "\n",
       "   Test Balanced Acc  Test F1  \n",
       "1               0.57     0.43  \n",
       "3               0.58     0.43  \n",
       "5               0.63     0.48  \n",
       "7               0.62     0.47  \n",
       "9               0.55     0.41  "
      ]
     },
     "execution_count": 15,
     "metadata": {},
     "output_type": "execute_result"
    }
   ],
   "source": [
    "a_matrix_performance"
   ]
  },
  {
   "cell_type": "code",
   "execution_count": 16,
   "metadata": {},
   "outputs": [
    {
     "data": {
      "text/html": [
       "<div>\n",
       "<style scoped>\n",
       "    .dataframe tbody tr th:only-of-type {\n",
       "        vertical-align: middle;\n",
       "    }\n",
       "\n",
       "    .dataframe tbody tr th {\n",
       "        vertical-align: top;\n",
       "    }\n",
       "\n",
       "    .dataframe thead th {\n",
       "        text-align: right;\n",
       "    }\n",
       "</style>\n",
       "<table border=\"1\" class=\"dataframe\">\n",
       "  <thead>\n",
       "    <tr style=\"text-align: right;\">\n",
       "      <th></th>\n",
       "      <th>DATASETS</th>\n",
       "      <th>Train Acc</th>\n",
       "      <th>Train Balanced Acc</th>\n",
       "      <th>Train F1</th>\n",
       "      <th>Test Acc</th>\n",
       "      <th>Test Balanced Acc</th>\n",
       "      <th>Test F1</th>\n",
       "    </tr>\n",
       "  </thead>\n",
       "  <tbody>\n",
       "    <tr>\n",
       "      <th>0</th>\n",
       "      <td>all_corr</td>\n",
       "      <td>0.74</td>\n",
       "      <td>0.83</td>\n",
       "      <td>0.65</td>\n",
       "      <td>0.52</td>\n",
       "      <td>0.59</td>\n",
       "      <td>0.43</td>\n",
       "    </tr>\n",
       "    <tr>\n",
       "      <th>2</th>\n",
       "      <td>inliers_corr</td>\n",
       "      <td>0.73</td>\n",
       "      <td>0.83</td>\n",
       "      <td>0.63</td>\n",
       "      <td>0.51</td>\n",
       "      <td>0.53</td>\n",
       "      <td>0.38</td>\n",
       "    </tr>\n",
       "    <tr>\n",
       "      <th>4</th>\n",
       "      <td>inliers_corr</td>\n",
       "      <td>0.75</td>\n",
       "      <td>0.84</td>\n",
       "      <td>0.65</td>\n",
       "      <td>0.53</td>\n",
       "      <td>0.57</td>\n",
       "      <td>0.41</td>\n",
       "    </tr>\n",
       "    <tr>\n",
       "      <th>6</th>\n",
       "      <td>all_corr</td>\n",
       "      <td>0.73</td>\n",
       "      <td>0.83</td>\n",
       "      <td>0.63</td>\n",
       "      <td>0.51</td>\n",
       "      <td>0.57</td>\n",
       "      <td>0.42</td>\n",
       "    </tr>\n",
       "    <tr>\n",
       "      <th>8</th>\n",
       "      <td>all_corr</td>\n",
       "      <td>0.79</td>\n",
       "      <td>0.86</td>\n",
       "      <td>0.69</td>\n",
       "      <td>0.43</td>\n",
       "      <td>0.51</td>\n",
       "      <td>0.38</td>\n",
       "    </tr>\n",
       "  </tbody>\n",
       "</table>\n",
       "</div>"
      ],
      "text/plain": [
       "       DATASETS  Train Acc  Train Balanced Acc  Train F1  Test Acc  \\\n",
       "0      all_corr       0.74                0.83      0.65      0.52   \n",
       "2  inliers_corr       0.73                0.83      0.63      0.51   \n",
       "4  inliers_corr       0.75                0.84      0.65      0.53   \n",
       "6      all_corr       0.73                0.83      0.63      0.51   \n",
       "8      all_corr       0.79                0.86      0.69      0.43   \n",
       "\n",
       "   Test Balanced Acc  Test F1  \n",
       "0               0.59     0.43  \n",
       "2               0.53     0.38  \n",
       "4               0.57     0.41  \n",
       "6               0.57     0.42  \n",
       "8               0.51     0.38  "
      ]
     },
     "execution_count": 16,
     "metadata": {},
     "output_type": "execute_result"
    }
   ],
   "source": [
    "corr_performance"
   ]
  },
  {
   "cell_type": "code",
   "execution_count": 59,
   "metadata": {},
   "outputs": [
    {
     "name": "stdout",
     "output_type": "stream",
     "text": [
      "P-value for difference in training accuracy:  0.3771559060457216\n",
      "P-value for difference in balanced training accuracy:  0.38895740114586586\n",
      "P-value for difference in train F1:  0.3735146492475694\n",
      "P-value for difference in test accuracy:  0.040643104722991784\n",
      "P-value for difference in balanced test accuracy:  0.06332910105232092\n",
      "P-value for difference in test F1:  0.02220462186235962\n",
      "Mean A Train Acc:  0.756\n",
      "Mean Corr Train Acc:  0.748\n",
      "Mean A Train Balanced Acc:  0.842\n",
      "Mean Corr Train Balanced Acc:  0.8380000000000001\n",
      "Mean A Train F1:  0.658\n",
      "Mean Corr Train F1:  0.65\n",
      "Mean A Test Acc:  0.46399999999999997\n",
      "Mean Corr Test Acc:  0.5000000000000001\n",
      "Mean A Test Balanced Acc:  0.5900000000000001\n",
      "Mean Corr Test Balanced Acc:  0.5539999999999999\n",
      "Mean A Test F1:  0.44399999999999995\n",
      "Mean Corr Test F1:  0.404\n"
     ]
    }
   ],
   "source": [
    "# t-test on training accuracy\n",
    "train_acc_statss, train_acc_pvals = stats.ttest_ind(a_matrix_performance[\"Train Acc\"], corr_performance[\"Train Acc\"])\n",
    "print(\"P-value for difference in training accuracy: \", train_acc_pvals/2)\n",
    "\n",
    "# t-test on training balanced accuracy\n",
    "train_bal_acc_statss, train_bal_acc_pvals = stats.ttest_ind(a_matrix_performance[\"Train Balanced Acc\"], corr_performance[\"Train Balanced Acc\"])\n",
    "print(\"P-value for difference in balanced training accuracy: \", train_bal_acc_pvals/2)\n",
    "\n",
    "# t-test on training F1\n",
    "train_f1_statss, train_f1_pvals = stats.ttest_ind(a_matrix_performance[\"Train F1\"], corr_performance[\"Train F1\"])\n",
    "print(\"P-value for difference in train F1: \", train_f1_pvals/2)\n",
    "\n",
    "# t-test on test accuracy\n",
    "test_acc_statss, test_acc_pvals = stats.ttest_ind(a_matrix_performance[\"Test Acc\"], corr_performance[\"Test Acc\"])\n",
    "print(\"P-value for difference in test accuracy: \", test_acc_pvals/2)\n",
    "\n",
    "# t-test on test balanced accuracy\n",
    "test_bal_acc_statss, test_bal_acc_pvals = stats.ttest_ind(a_matrix_performance[\"Test Balanced Acc\"], corr_performance[\"Test Balanced Acc\"])\n",
    "print(\"P-value for difference in balanced test accuracy: \", test_bal_acc_pvals/2)\n",
    "\n",
    "# t-test on test F1\n",
    "test_f1_statss, test_f1_pvals = stats.ttest_ind(a_matrix_performance[\"Test F1\"], corr_performance[\"Test F1\"])\n",
    "print(\"P-value for difference in test F1: \", test_f1_pvals/2)\n",
    "\n",
    "mean_a_train_acc = np.mean(a_matrix_performance[\"Train Acc\"])\n",
    "mean_corr_train_acc = np.mean(corr_performance[\"Train Acc\"])\n",
    "mean_a_train_bal = np.mean(a_matrix_performance[\"Train Balanced Acc\"])\n",
    "mean_corr_train_bal = np.mean(corr_performance[\"Train Balanced Acc\"])\n",
    "mean_a_train_f1 = np.mean(a_matrix_performance[\"Train F1\"])\n",
    "mean_corr_train_f1 = np.mean(corr_performance[\"Train F1\"])\n",
    "mean_a_test_acc = np.mean(a_matrix_performance[\"Test Acc\"])\n",
    "mean_corr_test_acc = np.mean(corr_performance[\"Test Acc\"])\n",
    "mean_a_test_bal = np.mean(a_matrix_performance[\"Test Balanced Acc\"])\n",
    "mean_corr_test_bal = np.mean(corr_performance[\"Test Balanced Acc\"])\n",
    "mean_a_test_f1 = np.mean(a_matrix_performance[\"Test F1\"])\n",
    "mean_corr_test_f1 = np.mean(corr_performance[\"Test F1\"])\n",
    "\n",
    "\n",
    "print(\"Mean A Train Acc: \", np.mean(a_matrix_performance[\"Train Acc\"]))\n",
    "print(\"Mean Corr Train Acc: \", np.mean(corr_performance[\"Train Acc\"]))\n",
    "print(\"Mean A Train Balanced Acc: \", np.mean(a_matrix_performance[\"Train Balanced Acc\"]))\n",
    "print(\"Mean Corr Train Balanced Acc: \", np.mean(corr_performance[\"Train Balanced Acc\"]))\n",
    "print(\"Mean A Train F1: \", np.mean(a_matrix_performance[\"Train F1\"]))\n",
    "print(\"Mean Corr Train F1: \", np.mean(corr_performance[\"Train F1\"]))\n",
    "print(\"Mean A Test Acc: \", np.mean(a_matrix_performance[\"Test Acc\"]))\n",
    "print(\"Mean Corr Test Acc: \", np.mean(corr_performance[\"Test Acc\"]))\n",
    "print(\"Mean A Test Balanced Acc: \", np.mean(a_matrix_performance[\"Test Balanced Acc\"]))\n",
    "print(\"Mean Corr Test Balanced Acc: \", np.mean(corr_performance[\"Test Balanced Acc\"]))\n",
    "print(\"Mean A Test F1: \", np.mean(a_matrix_performance[\"Test F1\"]))\n",
    "print(\"Mean Corr Test F1: \", np.mean(corr_performance[\"Test F1\"]))"
   ]
  },
  {
   "cell_type": "code",
   "execution_count": 62,
   "metadata": {},
   "outputs": [
    {
     "data": {
      "text/plain": [
       "<BarContainer object of 12 artists>"
      ]
     },
     "execution_count": 62,
     "metadata": {},
     "output_type": "execute_result"
    },
    {
     "data": {
      "image/png": "[encoded data removed]",
      "text/plain": [
       "<Figure size 432x288 with 1 Axes>"
      ]
     },
     "metadata": {
      "needs_background": "light"
     },
     "output_type": "display_data"
    }
   ],
   "source": [
    "all_means = [mean_a_train_acc, mean_corr_train_acc, mean_a_train_bal, mean_corr_train_bal, mean_a_train_f1, mean_corr_train_f1,\n",
    "            mean_a_test_acc, mean_corr_test_acc, mean_a_test_bal, mean_corr_test_bal, mean_a_test_f1, mean_corr_test_f1]\n",
    "labels = np.arange(1,13)\n",
    "plt.bar(labels, all_means)"
   ]
  },
  {
   "cell_type": "code",
   "execution_count": 5,
   "metadata": {},
   "outputs": [],
   "source": [
    "# load all the scores of all datasets\n",
    "all_norm_lr = np.load(classifier_folder + '100_clf_allscores_corr_amat_norm_lr.npy', allow_pickle=True).flat[0]\n",
    "all_norm_rf = np.load(classifier_folder + '100_clf_allscores_corr_amat_norm_rf.npy', allow_pickle=True).flat[0]\n",
    "all_norm_harm_rf = np.load(classifier_folder + '100_clf_allscores_corr_amat_norm_harm_rf.npy', allow_pickle=True).flat[0]\n",
    "inliers_norm_lr_rf = np.load(classifier_folder + '100_clf_allscores_inliers_corr_amat_norm_lr_rf.npy', allow_pickle=True).flat[0]\n",
    "\n",
    "all_norm_lr = pd.DataFrame(all_norm_lr)\n",
    "all_norm_rf = pd.DataFrame(all_norm_rf)\n",
    "all_norm_harm_rf = pd.DataFrame(all_norm_harm_rf)\n",
    "inliers_norm_lr_rf = pd.DataFrame(inliers_norm_lr_rf)"
   ]
  },
  {
   "cell_type": "code",
   "execution_count": 6,
   "metadata": {},
   "outputs": [
    {
     "data": {
      "text/html": "<div>\n<style scoped>\n    .dataframe tbody tr th:only-of-type {\n        vertical-align: middle;\n    }\n\n    .dataframe tbody tr th {\n        vertical-align: top;\n    }\n\n    .dataframe thead th {\n        text-align: right;\n    }\n</style>\n<table border=\"1\" class=\"dataframe\">\n  <thead>\n    <tr style=\"text-align: right;\">\n      <th></th>\n      <th>all_corr</th>\n      <th>all_Amat</th>\n    </tr>\n  </thead>\n  <tbody>\n    <tr>\n      <th>Lasso_cv Training Accuracy</th>\n      <td>0.744409</td>\n      <td>0.761981</td>\n    </tr>\n    <tr>\n      <th>Lasso_cv Training Balanced Accuracy</th>\n      <td>0.833333</td>\n      <td>0.844792</td>\n    </tr>\n    <tr>\n      <th>Lasso_cv Training F1 Score</th>\n      <td>0.646018</td>\n      <td>0.662132</td>\n    </tr>\n    <tr>\n      <th>Lasso_cv Testing Accuracy</th>\n      <td>0.520384</td>\n      <td>0.467626</td>\n    </tr>\n    <tr>\n      <th>Lasso_cv Testing Balanced Accuracy</th>\n      <td>0.585179</td>\n      <td>0.574683</td>\n    </tr>\n    <tr>\n      <th>Lasso_cv Testing F1 Score</th>\n      <td>0.431818</td>\n      <td>0.430769</td>\n    </tr>\n    <tr>\n      <th>Lasso_cv All Testing Accs</th>\n      <td>[0.5347721822541966, 0.5443645083932853, 0.513...</td>\n      <td>[0.45083932853717024, 0.4628297362110312, 0.50...</td>\n    </tr>\n    <tr>\n      <th>Lasso_cv All Testing Balanced Accs</th>\n      <td>[0.5294808064070698, 0.5250694444444444, 0.494...</td>\n      <td>[0.5325480153649167, 0.5503597122302158, 0.575...</td>\n    </tr>\n    <tr>\n      <th>Lasso_cv All Testing F1 Scores</th>\n      <td>[0.3741935483870968, 0.3624161073825503, 0.321...</td>\n      <td>[0.3989501312335958, 0.4166666666666667, 0.442...</td>\n    </tr>\n    <tr>\n      <th>Lasso_cv All Probabilities</th>\n      <td>[[0.06145903982362759, 0.8222501619259126, 0.4...</td>\n      <td>[[3.043612650915266e-05, 0.9997375037136744, 0...</td>\n    </tr>\n  </tbody>\n</table>\n</div>",
      "text/plain": "                                                                              all_corr  \\\nLasso_cv Training Accuracy                                                    0.744409   \nLasso_cv Training Balanced Accuracy                                           0.833333   \nLasso_cv Training F1 Score                                                    0.646018   \nLasso_cv Testing Accuracy                                                     0.520384   \nLasso_cv Testing Balanced Accuracy                                            0.585179   \nLasso_cv Testing F1 Score                                                     0.431818   \nLasso_cv All Testing Accs            [0.5347721822541966, 0.5443645083932853, 0.513...   \nLasso_cv All Testing Balanced Accs   [0.5294808064070698, 0.5250694444444444, 0.494...   \nLasso_cv All Testing F1 Scores       [0.3741935483870968, 0.3624161073825503, 0.321...   \nLasso_cv All Probabilities           [[0.06145903982362759, 0.8222501619259126, 0.4...   \n\n                                                                              all_Amat  \nLasso_cv Training Accuracy                                                    0.761981  \nLasso_cv Training Balanced Accuracy                                           0.844792  \nLasso_cv Training F1 Score                                                    0.662132  \nLasso_cv Testing Accuracy                                                     0.467626  \nLasso_cv Testing Balanced Accuracy                                            0.574683  \nLasso_cv Testing F1 Score                                                     0.430769  \nLasso_cv All Testing Accs            [0.45083932853717024, 0.4628297362110312, 0.50...  \nLasso_cv All Testing Balanced Accs   [0.5325480153649167, 0.5503597122302158, 0.575...  \nLasso_cv All Testing F1 Scores       [0.3989501312335958, 0.4166666666666667, 0.442...  \nLasso_cv All Probabilities           [[3.043612650915266e-05, 0.9997375037136744, 0...  "
     },
     "execution_count": 6,
     "metadata": {},
     "output_type": "execute_result"
    }
   ],
   "source": [
    "all_norm_lr"
   ]
  },
  {
   "cell_type": "code",
   "execution_count": null,
   "metadata": {},
   "outputs": [],
   "source": [
    "# check for each of these whether A matrices perform better or not "
   ]
  },
  {
   "cell_type": "code",
   "execution_count": 7,
   "metadata": {},
   "outputs": [
    {
     "name": "stdout",
     "output_type": "stream",
     "text": [
      "P-value for difference in testing accuracy for all data, norm, LR:  4.6422953034565965e-06\n",
      "Mean Value A:  0.48959232613908865\n",
      "Mean value corr:  0.5116546762589929\n",
      "P-value for difference in balanced testing accuracy for all data, norm, LR:  0.00010776246322363839\n",
      "Mean Value A:  0.5533785412448904\n",
      "Mean value corr:  0.538423371495039\n",
      "P-value for difference in F1 for all data, norm, LR:  1.0981939608971545e-06\n",
      "Mean Value A:  0.4163805216333812\n",
      "Mean value corr:  0.3902574231232653\n"
     ]
    }
   ],
   "source": [
    "# All data, normalized, Logistic Regression\n",
    "# Testing Accuary\n",
    "all_testing_acc_statss, all_testing_acc_pvals = stats.ttest_ind(all_norm_lr[\"all_corr\"][\"Lasso_cv All Testing Accs\"], all_norm_lr[\"all_Amat\"][\"Lasso_cv All Testing Accs\"])\n",
    "print(\"P-value for difference in testing accuracy for all data, norm, LR: \", all_testing_acc_pvals/2)\n",
    "print(\"Mean Value A: \", np.mean(all_norm_lr[\"all_Amat\"][\"Lasso_cv All Testing Accs\"]))\n",
    "print(\"Mean value corr: \", np.mean(all_norm_lr[\"all_corr\"][\"Lasso_cv All Testing Accs\"]))\n",
    "\n",
    "# t-test on training balanced accuracy\n",
    "all_testing_bal_acc_statss, all_testing_bal_acc_pvals = stats.ttest_ind(all_norm_lr[\"all_corr\"][\"Lasso_cv All Testing Balanced Accs\"], all_norm_lr[\"all_Amat\"][\"Lasso_cv All Testing Balanced Accs\"])\n",
    "print(\"P-value for difference in balanced testing accuracy for all data, norm, LR: \", all_testing_bal_acc_pvals/2)\n",
    "print(\"Mean Value A: \", np.mean(all_norm_lr[\"all_Amat\"][\"Lasso_cv All Testing Balanced Accs\"]))\n",
    "print(\"Mean value corr: \", np.mean(all_norm_lr[\"all_corr\"][\"Lasso_cv All Testing Balanced Accs\"]))\n",
    "\n",
    "# t-test on training F1\n",
    "all_testing_f1_statss, all_testing_f1_pvals = stats.ttest_ind(all_norm_lr[\"all_corr\"][\"Lasso_cv All Testing F1 Scores\"], all_norm_lr[\"all_Amat\"][\"Lasso_cv All Testing F1 Scores\"])\n",
    "print(\"P-value for difference in F1 for all data, norm, LR: \", all_testing_f1_pvals/2)\n",
    "print(\"Mean Value A: \", np.mean(all_norm_lr[\"all_Amat\"][\"Lasso_cv All Testing F1 Scores\"]))\n",
    "print(\"Mean value corr: \", np.mean(all_norm_lr[\"all_corr\"][\"Lasso_cv All Testing F1 Scores\"]))"
   ]
  },
  {
   "cell_type": "code",
   "execution_count": 8,
   "metadata": {},
   "outputs": [
    {
     "data": {
      "text/html": "<div>\n<style scoped>\n    .dataframe tbody tr th:only-of-type {\n        vertical-align: middle;\n    }\n\n    .dataframe tbody tr th {\n        vertical-align: top;\n    }\n\n    .dataframe thead th {\n        text-align: right;\n    }\n</style>\n<table border=\"1\" class=\"dataframe\">\n  <thead>\n    <tr style=\"text-align: right;\">\n      <th></th>\n      <th>all_corr</th>\n      <th>all_Amat</th>\n    </tr>\n  </thead>\n  <tbody>\n    <tr>\n      <th>RandomForest_cv Training Accuracy</th>\n      <td>0.731629</td>\n      <td>0.728435</td>\n    </tr>\n    <tr>\n      <th>RandomForest_cv Training Balanced Accuracy</th>\n      <td>0.825</td>\n      <td>0.822917</td>\n    </tr>\n    <tr>\n      <th>RandomForest_cv Training F1 Score</th>\n      <td>0.634783</td>\n      <td>0.632035</td>\n    </tr>\n    <tr>\n      <th>RandomForest_cv Testing Accuracy</th>\n      <td>0.513189</td>\n      <td>0.46283</td>\n    </tr>\n    <tr>\n      <th>RandomForest_cv Testing Balanced Accuracy</th>\n      <td>0.574137</td>\n      <td>0.624325</td>\n    </tr>\n    <tr>\n      <th>RandomForest_cv Testing F1 Score</th>\n      <td>0.421652</td>\n      <td>0.474178</td>\n    </tr>\n    <tr>\n      <th>RandomForest_cv All Testing Accs</th>\n      <td>[0.47961630695443647, 0.4580335731414868, 0.44...</td>\n      <td>[0.4892086330935252, 0.44364508393285373, 0.44...</td>\n    </tr>\n    <tr>\n      <th>RandomForest_cv All Testing Balanced Accs</th>\n      <td>[0.5676766374419804, 0.5854448603512813, 0.524...</td>\n      <td>[0.5660981613583844, 0.6258735269936969, 0.627...</td>\n    </tr>\n    <tr>\n      <th>RandomForest_cv All Testing F1 Scores</th>\n      <td>[0.43342036553524804, 0.446078431372549, 0.391...</td>\n      <td>[0.432, 0.46543778801843316, 0.467592592592592...</td>\n    </tr>\n    <tr>\n      <th>RandomForest_cv All Probabilities</th>\n      <td>[[0.4878091815589252, 0.5873851902007203, 0.47...</td>\n      <td>[[0.5011226311625747, 0.555031496009002, 0.386...</td>\n    </tr>\n  </tbody>\n</table>\n</div>",
      "text/plain": "                                                                                     all_corr  \\\nRandomForest_cv Training Accuracy                                                    0.731629   \nRandomForest_cv Training Balanced Accuracy                                              0.825   \nRandomForest_cv Training F1 Score                                                    0.634783   \nRandomForest_cv Testing Accuracy                                                     0.513189   \nRandomForest_cv Testing Balanced Accuracy                                            0.574137   \nRandomForest_cv Testing F1 Score                                                     0.421652   \nRandomForest_cv All Testing Accs            [0.47961630695443647, 0.4580335731414868, 0.44...   \nRandomForest_cv All Testing Balanced Accs   [0.5676766374419804, 0.5854448603512813, 0.524...   \nRandomForest_cv All Testing F1 Scores       [0.43342036553524804, 0.446078431372549, 0.391...   \nRandomForest_cv All Probabilities           [[0.4878091815589252, 0.5873851902007203, 0.47...   \n\n                                                                                     all_Amat  \nRandomForest_cv Training Accuracy                                                    0.728435  \nRandomForest_cv Training Balanced Accuracy                                           0.822917  \nRandomForest_cv Training F1 Score                                                    0.632035  \nRandomForest_cv Testing Accuracy                                                      0.46283  \nRandomForest_cv Testing Balanced Accuracy                                            0.624325  \nRandomForest_cv Testing F1 Score                                                     0.474178  \nRandomForest_cv All Testing Accs            [0.4892086330935252, 0.44364508393285373, 0.44...  \nRandomForest_cv All Testing Balanced Accs   [0.5660981613583844, 0.6258735269936969, 0.627...  \nRandomForest_cv All Testing F1 Scores       [0.432, 0.46543778801843316, 0.467592592592592...  \nRandomForest_cv All Probabilities           [[0.5011226311625747, 0.555031496009002, 0.386...  "
     },
     "execution_count": 8,
     "metadata": {},
     "output_type": "execute_result"
    }
   ],
   "source": [
    "all_norm_rf"
   ]
  },
  {
   "cell_type": "code",
   "execution_count": 9,
   "metadata": {},
   "outputs": [
    {
     "name": "stdout",
     "output_type": "stream",
     "text": [
      "P-value for difference in testing accuracy for all data, norm, RF:  1.9043749077267176e-21\n",
      "Mean Value A:  0.4764988009592325\n",
      "Mean value corr:  0.5207913669064748\n",
      "P-value for difference in balanced testing accuracy for all data, norm, RF:  1.5894219252972885e-28\n",
      "Mean Value A:  0.5907234465853347\n",
      "Mean value corr:  0.5434281136164691\n",
      "P-value for difference in F1 for all data, norm, RF:  4.0916241459566154e-26\n",
      "Mean Value A:  0.44952613488845566\n",
      "Mean value corr:  0.39622094430722277\n"
     ]
    }
   ],
   "source": [
    "# All data, normalized, Random Forest\n",
    "# Testing Accuary\n",
    "all_testing_acc_statss, all_testing_acc_pvals = stats.ttest_ind(all_norm_rf[\"all_corr\"][\"RandomForest_cv All Testing Accs\"], all_norm_rf[\"all_Amat\"][\"RandomForest_cv All Testing Accs\"])\n",
    "print(\"P-value for difference in testing accuracy for all data, norm, RF: \", all_testing_acc_pvals/2)\n",
    "print(\"Mean Value A: \", np.mean(all_norm_rf[\"all_Amat\"][\"RandomForest_cv All Testing Accs\"]))\n",
    "print(\"Mean value corr: \", np.mean(all_norm_rf[\"all_corr\"][\"RandomForest_cv All Testing Accs\"]))\n",
    "\n",
    "# t-test on training balanced accuracy\n",
    "all_testing_bal_acc_statss, all_testing_bal_acc_pvals = stats.ttest_ind(all_norm_rf[\"all_corr\"][\"RandomForest_cv All Testing Balanced Accs\"], all_norm_rf[\"all_Amat\"][\"RandomForest_cv All Testing Balanced Accs\"])\n",
    "print(\"P-value for difference in balanced testing accuracy for all data, norm, RF: \", all_testing_bal_acc_pvals/2)\n",
    "print(\"Mean Value A: \", np.mean(all_norm_rf[\"all_Amat\"][\"RandomForest_cv All Testing Balanced Accs\"]))\n",
    "print(\"Mean value corr: \", np.mean(all_norm_rf[\"all_corr\"][\"RandomForest_cv All Testing Balanced Accs\"]))\n",
    "\n",
    "# t-test on training F1\n",
    "all_testing_f1_statss, all_testing_f1_pvals = stats.ttest_ind(all_norm_rf[\"all_corr\"][\"RandomForest_cv All Testing F1 Scores\"], all_norm_rf[\"all_Amat\"][\"RandomForest_cv All Testing F1 Scores\"])\n",
    "print(\"P-value for difference in F1 for all data, norm, RF: \", all_testing_f1_pvals/2)\n",
    "print(\"Mean Value A: \", np.mean(all_norm_rf[\"all_Amat\"][\"RandomForest_cv All Testing F1 Scores\"]))\n",
    "print(\"Mean value corr: \", np.mean(all_norm_rf[\"all_corr\"][\"RandomForest_cv All Testing F1 Scores\"]))"
   ]
  },
  {
   "cell_type": "code",
   "execution_count": 11,
   "metadata": {},
   "outputs": [
    {
     "data": {
      "text/html": "<div>\n<style scoped>\n    .dataframe tbody tr th:only-of-type {\n        vertical-align: middle;\n    }\n\n    .dataframe tbody tr th {\n        vertical-align: top;\n    }\n\n    .dataframe thead th {\n        text-align: right;\n    }\n</style>\n<table border=\"1\" class=\"dataframe\">\n  <thead>\n    <tr style=\"text-align: right;\">\n      <th></th>\n      <th>all_corr</th>\n      <th>all_Amat</th>\n    </tr>\n  </thead>\n  <tbody>\n    <tr>\n      <th>RandomForest_cv Training Accuracy</th>\n      <td>0.78754</td>\n      <td>0.835463</td>\n    </tr>\n    <tr>\n      <th>RandomForest_cv Training Balanced Accuracy</th>\n      <td>0.861458</td>\n      <td>0.892708</td>\n    </tr>\n    <tr>\n      <th>RandomForest_cv Training F1 Score</th>\n      <td>0.687059</td>\n      <td>0.739241</td>\n    </tr>\n    <tr>\n      <th>RandomForest_cv Testing Accuracy</th>\n      <td>0.431655</td>\n      <td>0.460432</td>\n    </tr>\n    <tr>\n      <th>RandomForest_cv Testing Balanced Accuracy</th>\n      <td>0.513256</td>\n      <td>0.548095</td>\n    </tr>\n    <tr>\n      <th>RandomForest_cv Testing F1 Score</th>\n      <td>0.377953</td>\n      <td>0.406332</td>\n    </tr>\n    <tr>\n      <th>RandomForest_cv All Testing Accs</th>\n      <td>[0.44364508393285373, 0.42206235011990406, 0.4...</td>\n      <td>[0.41007194244604317, 0.45323741007194246, 0.4...</td>\n    </tr>\n    <tr>\n      <th>RandomForest_cv All Testing Balanced Accs</th>\n      <td>[0.5021208132221735, 0.49532426831117626, 0.53...</td>\n      <td>[0.5101369863013698, 0.5615479452054795, 0.526...</td>\n    </tr>\n    <tr>\n      <th>RandomForest_cv All Testing F1 Scores</th>\n      <td>[0.3626373626373627, 0.3607427055702917, 0.394...</td>\n      <td>[0.3819095477386934, 0.4271356783919598, 0.394...</td>\n    </tr>\n    <tr>\n      <th>RandomForest_cv All Probabilities</th>\n      <td>[[0.5577239060524881, 0.46102478693139176, 0.5...</td>\n      <td>[[0.5204141885180874, 0.5126505937204978, 0.63...</td>\n    </tr>\n  </tbody>\n</table>\n</div>",
      "text/plain": "                                                                                     all_corr  \\\nRandomForest_cv Training Accuracy                                                     0.78754   \nRandomForest_cv Training Balanced Accuracy                                           0.861458   \nRandomForest_cv Training F1 Score                                                    0.687059   \nRandomForest_cv Testing Accuracy                                                     0.431655   \nRandomForest_cv Testing Balanced Accuracy                                            0.513256   \nRandomForest_cv Testing F1 Score                                                     0.377953   \nRandomForest_cv All Testing Accs            [0.44364508393285373, 0.42206235011990406, 0.4...   \nRandomForest_cv All Testing Balanced Accs   [0.5021208132221735, 0.49532426831117626, 0.53...   \nRandomForest_cv All Testing F1 Scores       [0.3626373626373627, 0.3607427055702917, 0.394...   \nRandomForest_cv All Probabilities           [[0.5577239060524881, 0.46102478693139176, 0.5...   \n\n                                                                                     all_Amat  \nRandomForest_cv Training Accuracy                                                    0.835463  \nRandomForest_cv Training Balanced Accuracy                                           0.892708  \nRandomForest_cv Training F1 Score                                                    0.739241  \nRandomForest_cv Testing Accuracy                                                     0.460432  \nRandomForest_cv Testing Balanced Accuracy                                            0.548095  \nRandomForest_cv Testing F1 Score                                                     0.406332  \nRandomForest_cv All Testing Accs            [0.41007194244604317, 0.45323741007194246, 0.4...  \nRandomForest_cv All Testing Balanced Accs   [0.5101369863013698, 0.5615479452054795, 0.526...  \nRandomForest_cv All Testing F1 Scores       [0.3819095477386934, 0.4271356783919598, 0.394...  \nRandomForest_cv All Probabilities           [[0.5204141885180874, 0.5126505937204978, 0.63...  "
     },
     "execution_count": 11,
     "metadata": {},
     "output_type": "execute_result"
    }
   ],
   "source": [
    "all_norm_harm_rf"
   ]
  },
  {
   "cell_type": "code",
   "execution_count": 12,
   "metadata": {},
   "outputs": [
    {
     "name": "stdout",
     "output_type": "stream",
     "text": [
      "P-value for difference in testing accuracy for all data, harm, norm, RF:  0.314428886367758\n",
      "Mean Value A:  0.4606714628297361\n",
      "Mean value corr:  0.4628776978417266\n",
      "P-value for difference in balanced testing accuracy for all data, harm, norm, RF:  6.594698366432925e-13\n",
      "Mean Value A:  0.5337185196601534\n",
      "Mean value corr:  0.5125507740318187\n",
      "P-value for difference in F1 for all data, harm, norm, RF:  3.09635159743751e-16\n",
      "Mean Value A:  0.39820657944373056\n",
      "Mean value corr:  0.3703230543788755\n"
     ]
    }
   ],
   "source": [
    "# All data, normalized, harmonized, Random Forest\n",
    "# Testing Accuary\n",
    "all_testing_acc_statss, all_testing_acc_pvals = stats.ttest_ind(all_norm_harm_rf[\"all_corr\"][\"RandomForest_cv All Testing Accs\"], all_norm_harm_rf[\"all_Amat\"][\"RandomForest_cv All Testing Accs\"])\n",
    "print(\"P-value for difference in testing accuracy for all data, harm, norm, RF: \", all_testing_acc_pvals/2)\n",
    "print(\"Mean Value A: \", np.mean(all_norm_harm_rf[\"all_Amat\"][\"RandomForest_cv All Testing Accs\"]))\n",
    "print(\"Mean value corr: \", np.mean(all_norm_harm_rf[\"all_corr\"][\"RandomForest_cv All Testing Accs\"]))\n",
    "\n",
    "# t-test on training balanced accuracy\n",
    "all_testing_bal_acc_statss, all_testing_bal_acc_pvals = stats.ttest_ind(all_norm_harm_rf[\"all_corr\"][\"RandomForest_cv All Testing Balanced Accs\"], all_norm_harm_rf[\"all_Amat\"][\"RandomForest_cv All Testing Balanced Accs\"])\n",
    "print(\"P-value for difference in balanced testing accuracy for all data, harm, norm, RF: \", all_testing_bal_acc_pvals/2)\n",
    "print(\"Mean Value A: \", np.mean(all_norm_harm_rf[\"all_Amat\"][\"RandomForest_cv All Testing Balanced Accs\"]))\n",
    "print(\"Mean value corr: \", np.mean(all_norm_harm_rf[\"all_corr\"][\"RandomForest_cv All Testing Balanced Accs\"]))\n",
    "\n",
    "# t-test on training F1\n",
    "all_testing_f1_statss, all_testing_f1_pvals = stats.ttest_ind(all_norm_harm_rf[\"all_corr\"][\"RandomForest_cv All Testing F1 Scores\"], all_norm_harm_rf[\"all_Amat\"][\"RandomForest_cv All Testing F1 Scores\"])\n",
    "print(\"P-value for difference in F1 for all data, harm, norm, RF: \", all_testing_f1_pvals/2)\n",
    "print(\"Mean Value A: \", np.mean(all_norm_harm_rf[\"all_Amat\"][\"RandomForest_cv All Testing F1 Scores\"]))\n",
    "print(\"Mean value corr: \", np.mean(all_norm_harm_rf[\"all_corr\"][\"RandomForest_cv All Testing F1 Scores\"]))"
   ]
  },
  {
   "cell_type": "code",
   "execution_count": 13,
   "metadata": {},
   "outputs": [
    {
     "data": {
      "text/html": "<div>\n<style scoped>\n    .dataframe tbody tr th:only-of-type {\n        vertical-align: middle;\n    }\n\n    .dataframe tbody tr th {\n        vertical-align: top;\n    }\n\n    .dataframe thead th {\n        text-align: right;\n    }\n</style>\n<table border=\"1\" class=\"dataframe\">\n  <thead>\n    <tr style=\"text-align: right;\">\n      <th></th>\n      <th>inliers_corr</th>\n      <th>inliers_Amat</th>\n    </tr>\n  </thead>\n  <tbody>\n    <tr>\n      <th>Lasso_cv Training Accuracy</th>\n      <td>0.733447</td>\n      <td>0.733447</td>\n    </tr>\n    <tr>\n      <th>Lasso_cv Training Balanced Accuracy</th>\n      <td>0.827093</td>\n      <td>0.827093</td>\n    </tr>\n    <tr>\n      <th>Lasso_cv Training F1 Score</th>\n      <td>0.632319</td>\n      <td>0.632319</td>\n    </tr>\n    <tr>\n      <th>Lasso_cv Testing Accuracy</th>\n      <td>0.508642</td>\n      <td>0.45679</td>\n    </tr>\n    <tr>\n      <th>Lasso_cv Testing Balanced Accuracy</th>\n      <td>0.538294</td>\n      <td>0.578431</td>\n    </tr>\n    <tr>\n      <th>Lasso_cv Testing F1 Score</th>\n      <td>0.380062</td>\n      <td>0.43299</td>\n    </tr>\n    <tr>\n      <th>Lasso_cv All Testing Accs</th>\n      <td>[0.528395061728395, 0.5259259259259259, 0.5506...</td>\n      <td>[0.5160493827160494, 0.5456790123456791, 0.530...</td>\n    </tr>\n    <tr>\n      <th>Lasso_cv All Testing Balanced Accs</th>\n      <td>[0.5192307692307693, 0.49333813021040096, 0.55...</td>\n      <td>[0.5698375929131453, 0.554945054945055, 0.5684...</td>\n    </tr>\n    <tr>\n      <th>Lasso_cv All Testing F1 Scores</th>\n      <td>[0.3569023569023569, 0.30935251798561153, 0.40...</td>\n      <td>[0.4335260115606937, 0.4102564102564103, 0.431...</td>\n    </tr>\n    <tr>\n      <th>Lasso_cv All Probabilities</th>\n      <td>[[4.816285397361614e-06, 0.9962412371547285, 0...</td>\n      <td>[[0.10181698852132891, 0.9943199296356696, 0.0...</td>\n    </tr>\n    <tr>\n      <th>RandomForest_cv Training Accuracy</th>\n      <td>0.750424</td>\n      <td>0.733447</td>\n    </tr>\n    <tr>\n      <th>RandomForest_cv Training Balanced Accuracy</th>\n      <td>0.838106</td>\n      <td>0.827093</td>\n    </tr>\n    <tr>\n      <th>RandomForest_cv Training F1 Score</th>\n      <td>0.647482</td>\n      <td>0.632319</td>\n    </tr>\n    <tr>\n      <th>RandomForest_cv Testing Accuracy</th>\n      <td>0.525926</td>\n      <td>0.469136</td>\n    </tr>\n    <tr>\n      <th>RandomForest_cv Testing Balanced Accuracy</th>\n      <td>0.569355</td>\n      <td>0.632207</td>\n    </tr>\n    <tr>\n      <th>RandomForest_cv Testing F1 Score</th>\n      <td>0.411043</td>\n      <td>0.476886</td>\n    </tr>\n    <tr>\n      <th>RandomForest_cv All Testing Accs</th>\n      <td>[0.4962962962962963, 0.5037037037037037, 0.501...</td>\n      <td>[0.48641975308641977, 0.4641975308641975, 0.52...</td>\n    </tr>\n    <tr>\n      <th>RandomForest_cv All Testing Balanced Accs</th>\n      <td>[0.541060735671514, 0.48461953588774964, 0.543...</td>\n      <td>[0.5845823814565109, 0.6207377049180328, 0.550...</td>\n    </tr>\n    <tr>\n      <th>RandomForest_cv All Testing F1 Scores</th>\n      <td>[0.4, 0.3044982698961938, 0.40236686390532544,...</td>\n      <td>[0.44680851063829785, 0.46683046683046686, 0.4...</td>\n    </tr>\n    <tr>\n      <th>RandomForest_cv All Probabilities</th>\n      <td>[[0.5028376776441568, 0.5938662429734849, 0.54...</td>\n      <td>[[0.40569471013923875, 0.5975759469245092, 0.4...</td>\n    </tr>\n  </tbody>\n</table>\n</div>",
      "text/plain": "                                                                                 inliers_corr  \\\nLasso_cv Training Accuracy                                                           0.733447   \nLasso_cv Training Balanced Accuracy                                                  0.827093   \nLasso_cv Training F1 Score                                                           0.632319   \nLasso_cv Testing Accuracy                                                            0.508642   \nLasso_cv Testing Balanced Accuracy                                                   0.538294   \nLasso_cv Testing F1 Score                                                            0.380062   \nLasso_cv All Testing Accs                   [0.528395061728395, 0.5259259259259259, 0.5506...   \nLasso_cv All Testing Balanced Accs          [0.5192307692307693, 0.49333813021040096, 0.55...   \nLasso_cv All Testing F1 Scores              [0.3569023569023569, 0.30935251798561153, 0.40...   \nLasso_cv All Probabilities                  [[4.816285397361614e-06, 0.9962412371547285, 0...   \nRandomForest_cv Training Accuracy                                                    0.750424   \nRandomForest_cv Training Balanced Accuracy                                           0.838106   \nRandomForest_cv Training F1 Score                                                    0.647482   \nRandomForest_cv Testing Accuracy                                                     0.525926   \nRandomForest_cv Testing Balanced Accuracy                                            0.569355   \nRandomForest_cv Testing F1 Score                                                     0.411043   \nRandomForest_cv All Testing Accs            [0.4962962962962963, 0.5037037037037037, 0.501...   \nRandomForest_cv All Testing Balanced Accs   [0.541060735671514, 0.48461953588774964, 0.543...   \nRandomForest_cv All Testing F1 Scores       [0.4, 0.3044982698961938, 0.40236686390532544,...   \nRandomForest_cv All Probabilities           [[0.5028376776441568, 0.5938662429734849, 0.54...   \n\n                                                                                 inliers_Amat  \nLasso_cv Training Accuracy                                                           0.733447  \nLasso_cv Training Balanced Accuracy                                                  0.827093  \nLasso_cv Training F1 Score                                                           0.632319  \nLasso_cv Testing Accuracy                                                             0.45679  \nLasso_cv Testing Balanced Accuracy                                                   0.578431  \nLasso_cv Testing F1 Score                                                             0.43299  \nLasso_cv All Testing Accs                   [0.5160493827160494, 0.5456790123456791, 0.530...  \nLasso_cv All Testing Balanced Accs          [0.5698375929131453, 0.554945054945055, 0.5684...  \nLasso_cv All Testing F1 Scores              [0.4335260115606937, 0.4102564102564103, 0.431...  \nLasso_cv All Probabilities                  [[0.10181698852132891, 0.9943199296356696, 0.0...  \nRandomForest_cv Training Accuracy                                                    0.733447  \nRandomForest_cv Training Balanced Accuracy                                           0.827093  \nRandomForest_cv Training F1 Score                                                    0.632319  \nRandomForest_cv Testing Accuracy                                                     0.469136  \nRandomForest_cv Testing Balanced Accuracy                                            0.632207  \nRandomForest_cv Testing F1 Score                                                     0.476886  \nRandomForest_cv All Testing Accs            [0.48641975308641977, 0.4641975308641975, 0.52...  \nRandomForest_cv All Testing Balanced Accs   [0.5845823814565109, 0.6207377049180328, 0.550...  \nRandomForest_cv All Testing F1 Scores       [0.44680851063829785, 0.46683046683046686, 0.4...  \nRandomForest_cv All Probabilities           [[0.40569471013923875, 0.5975759469245092, 0.4...  "
     },
     "execution_count": 13,
     "metadata": {},
     "output_type": "execute_result"
    }
   ],
   "source": [
    "inliers_norm_lr_rf"
   ]
  },
  {
   "cell_type": "code",
   "execution_count": 14,
   "metadata": {},
   "outputs": [
    {
     "name": "stdout",
     "output_type": "stream",
     "text": [
      "P-value for difference in testing accuracy for inliers, norm, RF:  8.862171118018861e-25\n",
      "Mean Value A:  0.4765679012345678\n",
      "Mean value corr:  0.5252345679012346\n",
      "P-value for difference in balanced testing accuracy for inliers, norm, RF:  3.4589316823316895e-30\n",
      "Mean Value A:  0.5919089674930479\n",
      "Mean value corr:  0.5425781708807581\n",
      "P-value for difference in F1 for inliers, norm, RF:  3.362683487372931e-28\n",
      "Mean Value A:  0.44825078576894944\n",
      "Mean value corr:  0.3919853396901683\n"
     ]
    }
   ],
   "source": [
    "# Inliers, normalized, Random Forest\n",
    "# Testing Accuary\n",
    "all_testing_acc_statss, all_testing_acc_pvals = stats.ttest_ind(inliers_norm_lr_rf[\"inliers_corr\"][\"RandomForest_cv All Testing Accs\"], inliers_norm_lr_rf[\"inliers_Amat\"][\"RandomForest_cv All Testing Accs\"])\n",
    "print(\"P-value for difference in testing accuracy for inliers, norm, RF: \", all_testing_acc_pvals/2)\n",
    "print(\"Mean Value A: \", np.mean(inliers_norm_lr_rf[\"inliers_Amat\"][\"RandomForest_cv All Testing Accs\"]))\n",
    "print(\"Mean value corr: \", np.mean(inliers_norm_lr_rf[\"inliers_corr\"][\"RandomForest_cv All Testing Accs\"]))\n",
    "\n",
    "# t-test on training balanced accuracy\n",
    "all_testing_bal_acc_statss, all_testing_bal_acc_pvals = stats.ttest_ind(inliers_norm_lr_rf[\"inliers_corr\"][\"RandomForest_cv All Testing Balanced Accs\"], inliers_norm_lr_rf[\"inliers_Amat\"][\"RandomForest_cv All Testing Balanced Accs\"])\n",
    "print(\"P-value for difference in balanced testing accuracy for inliers, norm, RF: \", all_testing_bal_acc_pvals/2)\n",
    "print(\"Mean Value A: \", np.mean(inliers_norm_lr_rf[\"inliers_Amat\"][\"RandomForest_cv All Testing Balanced Accs\"]))\n",
    "print(\"Mean value corr: \", np.mean(inliers_norm_lr_rf[\"inliers_corr\"][\"RandomForest_cv All Testing Balanced Accs\"]))\n",
    "\n",
    "# t-test on training F1\n",
    "all_testing_f1_statss, all_testing_f1_pvals = stats.ttest_ind(inliers_norm_lr_rf[\"inliers_corr\"][\"RandomForest_cv All Testing F1 Scores\"], inliers_norm_lr_rf[\"inliers_Amat\"][\"RandomForest_cv All Testing F1 Scores\"])\n",
    "print(\"P-value for difference in F1 for inliers, norm, RF: \", all_testing_f1_pvals/2)\n",
    "print(\"Mean Value A: \", np.mean(inliers_norm_lr_rf[\"inliers_Amat\"][\"RandomForest_cv All Testing F1 Scores\"]))\n",
    "print(\"Mean value corr: \", np.mean(inliers_norm_lr_rf[\"inliers_corr\"][\"RandomForest_cv All Testing F1 Scores\"]))"
   ]
  },
  {
   "cell_type": "code",
   "execution_count": 15,
   "metadata": {},
   "outputs": [
    {
     "name": "stdout",
     "output_type": "stream",
     "text": [
      "P-value for difference in testing accuracy for inliers, norm, LR:  4.640516031346209e-08\n",
      "Mean Value A:  0.48409876543209873\n",
      "Mean value corr:  0.5098271604938271\n",
      "P-value for difference in balanced testing accuracy for inliers, norm, LR:  8.944023637765462e-17\n",
      "Mean Value A:  0.5582079764869983\n",
      "Mean value corr:  0.5212498231278088\n",
      "P-value for difference in F1 for inliers, norm, LR:  2.798632965193555e-18\n",
      "Mean Value A:  0.41839598385505783\n",
      "Mean value corr:  0.3612970012245579\n"
     ]
    }
   ],
   "source": [
    "# Inliers, normalized, Logistic Regression\n",
    "# Testing Accuary\n",
    "all_testing_acc_statss, all_testing_acc_pvals = stats.ttest_ind(inliers_norm_lr_rf[\"inliers_corr\"][\"Lasso_cv All Testing Accs\"], inliers_norm_lr_rf[\"inliers_Amat\"][\"Lasso_cv All Testing Accs\"])\n",
    "print(\"P-value for difference in testing accuracy for inliers, norm, LR: \", all_testing_acc_pvals/2)\n",
    "print(\"Mean Value A: \", np.mean(inliers_norm_lr_rf[\"inliers_Amat\"][\"Lasso_cv All Testing Accs\"]))\n",
    "print(\"Mean value corr: \", np.mean(inliers_norm_lr_rf[\"inliers_corr\"][\"Lasso_cv All Testing Accs\"]))\n",
    "\n",
    "# t-test on training balanced accuracy\n",
    "all_testing_bal_acc_statss, all_testing_bal_acc_pvals = stats.ttest_ind(inliers_norm_lr_rf[\"inliers_corr\"][\"Lasso_cv All Testing Balanced Accs\"], inliers_norm_lr_rf[\"inliers_Amat\"][\"Lasso_cv All Testing Balanced Accs\"])\n",
    "print(\"P-value for difference in balanced testing accuracy for inliers, norm, LR: \", all_testing_bal_acc_pvals/2)\n",
    "print(\"Mean Value A: \", np.mean(inliers_norm_lr_rf[\"inliers_Amat\"][\"Lasso_cv All Testing Balanced Accs\"]))\n",
    "print(\"Mean value corr: \", np.mean(inliers_norm_lr_rf[\"inliers_corr\"][\"Lasso_cv All Testing Balanced Accs\"]))\n",
    "\n",
    "# t-test on training F1\n",
    "all_testing_f1_statss, all_testing_f1_pvals = stats.ttest_ind(inliers_norm_lr_rf[\"inliers_corr\"][\"Lasso_cv All Testing F1 Scores\"], inliers_norm_lr_rf[\"inliers_Amat\"][\"Lasso_cv All Testing F1 Scores\"])\n",
    "print(\"P-value for difference in F1 for inliers, norm, LR: \", all_testing_f1_pvals/2)\n",
    "print(\"Mean Value A: \", np.mean(inliers_norm_lr_rf[\"inliers_Amat\"][\"Lasso_cv All Testing F1 Scores\"]))\n",
    "print(\"Mean value corr: \", np.mean(inliers_norm_lr_rf[\"inliers_corr\"][\"Lasso_cv All Testing F1 Scores\"]))"
   ]
  },
  {
   "cell_type": "markdown",
   "metadata": {},
   "source": [
    "# Get all the mean values and std"
   ]
  },
  {
   "cell_type": "code",
   "execution_count": 16,
   "metadata": {},
   "outputs": [],
   "source": [
    "mean_all_a_lasso_test_acc = np.mean(all_norm_lr[\"all_Amat\"][\"Lasso_cv All Testing Accs\"])\n",
    "mean_all_corr_lasso_test_acc = np.mean(all_norm_lr[\"all_corr\"][\"Lasso_cv All Testing Accs\"])\n",
    "std_all_a_lasso_test_acc = np.std(all_norm_lr[\"all_Amat\"][\"Lasso_cv All Testing Accs\"])\n",
    "std_all_corr_lasso_test_acc = np.std(all_norm_lr[\"all_corr\"][\"Lasso_cv All Testing Accs\"])\n",
    "\n",
    "mean_all_a_lasso_test_bal_acc = np.mean(all_norm_lr[\"all_Amat\"][\"Lasso_cv All Testing Balanced Accs\"])\n",
    "mean_all_corr_lasso_test_bal_acc = np.mean(all_norm_lr[\"all_corr\"][\"Lasso_cv All Testing Balanced Accs\"])\n",
    "std_all_a_lasso_test_bal_acc = np.std(all_norm_lr[\"all_Amat\"][\"Lasso_cv All Testing Balanced Accs\"])\n",
    "std_all_corr_lasso_test_bal_acc = np.std(all_norm_lr[\"all_corr\"][\"Lasso_cv All Testing Balanced Accs\"])\n",
    "\n",
    "mean_all_a_lasso_test_f1 = np.mean(all_norm_lr[\"all_Amat\"][\"Lasso_cv All Testing F1 Scores\"])\n",
    "mean_all_corr_lasso_test_f1 = np.mean(all_norm_lr[\"all_corr\"][\"Lasso_cv All Testing F1 Scores\"])\n",
    "std_all_a_lasso_test_f1 = np.std(all_norm_lr[\"all_Amat\"][\"Lasso_cv All Testing F1 Scores\"])\n",
    "std_all_corr_lasso_test_f1 = np.std(all_norm_lr[\"all_corr\"][\"Lasso_cv All Testing F1 Scores\"])\n",
    "\n",
    "mean_all_a_rf_test_acc = np.mean(all_norm_rf[\"all_Amat\"][\"RandomForest_cv All Testing Accs\"])\n",
    "mean_all_corr_rf_test_acc = np.mean(all_norm_rf[\"all_corr\"][\"RandomForest_cv All Testing Accs\"])\n",
    "std_all_a_rf_test_acc = np.std(all_norm_rf[\"all_Amat\"][\"RandomForest_cv All Testing Accs\"])\n",
    "std_all_corr_rf_test_acc = np.std(all_norm_rf[\"all_corr\"][\"RandomForest_cv All Testing Accs\"])\n",
    "\n",
    "mean_all_a_rf_test_bal = np.mean(all_norm_rf[\"all_Amat\"][\"RandomForest_cv All Testing Balanced Accs\"])\n",
    "mean_all_corr_rf_test_bal = np.mean(all_norm_rf[\"all_corr\"][\"RandomForest_cv All Testing Balanced Accs\"])\n",
    "std_all_a_rf_test_bal = np.std(all_norm_rf[\"all_Amat\"][\"RandomForest_cv All Testing Balanced Accs\"])\n",
    "std_all_corr_rf_test_bal = np.std(all_norm_rf[\"all_corr\"][\"RandomForest_cv All Testing Balanced Accs\"])\n",
    "\n",
    "mean_all_a_rf_test_f1 = np.mean(all_norm_rf[\"all_Amat\"][\"RandomForest_cv All Testing F1 Scores\"])\n",
    "mean_all_corr_rf_test_f1 = np.mean(all_norm_rf[\"all_corr\"][\"RandomForest_cv All Testing F1 Scores\"])\n",
    "std_all_a_rf_test_f1 = np.std(all_norm_rf[\"all_Amat\"][\"RandomForest_cv All Testing F1 Scores\"])\n",
    "std_all_corr_rf_test_f1 = np.std(all_norm_rf[\"all_corr\"][\"RandomForest_cv All Testing F1 Scores\"])\n",
    "\n",
    "mean_all_a_harm_rf_test_acc = np.mean(all_norm_harm_rf[\"all_Amat\"][\"RandomForest_cv All Testing Accs\"])\n",
    "mean_all_corr_harm_rf_test_acc = np.mean(all_norm_harm_rf[\"all_corr\"][\"RandomForest_cv All Testing Accs\"])\n",
    "std_all_a_harm_rf_test_acc = np.std(all_norm_harm_rf[\"all_Amat\"][\"RandomForest_cv All Testing Accs\"])\n",
    "std_all_corr_harm_rf_test_acc = np.std(all_norm_harm_rf[\"all_corr\"][\"RandomForest_cv All Testing Accs\"])\n",
    "\n",
    "mean_all_a_harm_rf_bal = np.mean(all_norm_harm_rf[\"all_Amat\"][\"RandomForest_cv All Testing Balanced Accs\"])\n",
    "mean_all_corr_harm_rf_bal = np.mean(all_norm_harm_rf[\"all_corr\"][\"RandomForest_cv All Testing Balanced Accs\"])\n",
    "std_all_a_harm_rf_bal = np.std(all_norm_harm_rf[\"all_Amat\"][\"RandomForest_cv All Testing Balanced Accs\"])\n",
    "std_all_corr_harm_rf_bal = np.std(all_norm_harm_rf[\"all_corr\"][\"RandomForest_cv All Testing Balanced Accs\"])\n",
    "\n",
    "mean_all_a_harm_rf_f1 = np.mean(all_norm_harm_rf[\"all_Amat\"][\"RandomForest_cv All Testing F1 Scores\"])\n",
    "mean_all_corr_harm_rf_f1 = np.mean(all_norm_harm_rf[\"all_corr\"][\"RandomForest_cv All Testing F1 Scores\"])\n",
    "std_all_a_harm_rf_f1 = np.std(all_norm_harm_rf[\"all_Amat\"][\"RandomForest_cv All Testing F1 Scores\"])\n",
    "std_all_corr_harm_rf_f1 = np.std(all_norm_harm_rf[\"all_corr\"][\"RandomForest_cv All Testing F1 Scores\"])\n",
    "\n",
    "mean_inliers_a_acc_rf = np.mean(inliers_norm_lr_rf[\"inliers_Amat\"][\"RandomForest_cv All Testing Accs\"])\n",
    "mean_inliers_corr_acc_rf = np.mean(inliers_norm_lr_rf[\"inliers_corr\"][\"RandomForest_cv All Testing Accs\"])\n",
    "std_inliers_a_acc_rf = np.std(inliers_norm_lr_rf[\"inliers_Amat\"][\"RandomForest_cv All Testing Accs\"])\n",
    "std_inliers_corr_acc_rf = np.std(inliers_norm_lr_rf[\"inliers_corr\"][\"RandomForest_cv All Testing Accs\"])\n",
    "\n",
    "mean_inliers_a_bal_rf = np.mean(inliers_norm_lr_rf[\"inliers_Amat\"][\"RandomForest_cv All Testing Balanced Accs\"])\n",
    "mean_inliers_corr_bal_rf = np.mean(inliers_norm_lr_rf[\"inliers_corr\"][\"RandomForest_cv All Testing Balanced Accs\"])\n",
    "std_inliers_a_bal_rf = np.std(inliers_norm_lr_rf[\"inliers_Amat\"][\"RandomForest_cv All Testing Balanced Accs\"])\n",
    "std_inliers_corr_bal_rf = np.std(inliers_norm_lr_rf[\"inliers_corr\"][\"RandomForest_cv All Testing Balanced Accs\"])\n",
    "\n",
    "mean_inliers_a_f1_rf = np.mean(inliers_norm_lr_rf[\"inliers_Amat\"][\"RandomForest_cv All Testing F1 Scores\"])\n",
    "mean_inliers_corr_f1_rf = np.mean(inliers_norm_lr_rf[\"inliers_corr\"][\"RandomForest_cv All Testing F1 Scores\"])\n",
    "std_inliers_a_f1_rf = np.std(inliers_norm_lr_rf[\"inliers_Amat\"][\"RandomForest_cv All Testing F1 Scores\"])\n",
    "std_inliers_corr_f1_rf = np.std(inliers_norm_lr_rf[\"inliers_corr\"][\"RandomForest_cv All Testing F1 Scores\"])\n",
    "\n",
    "mean_inliers_a_acc_lr = np.mean(inliers_norm_lr_rf[\"inliers_Amat\"][\"Lasso_cv All Testing Accs\"])\n",
    "mean_inliers_corr_acc_lr = np.mean(inliers_norm_lr_rf[\"inliers_corr\"][\"Lasso_cv All Testing Accs\"])\n",
    "std_inliers_a_acc_lr = np.std(inliers_norm_lr_rf[\"inliers_Amat\"][\"Lasso_cv All Testing Accs\"])\n",
    "std_inliers_corr_acc_lr = np.std(inliers_norm_lr_rf[\"inliers_corr\"][\"Lasso_cv All Testing Accs\"])\n",
    "\n",
    "mean_inliers_a_bal_lr = np.mean(inliers_norm_lr_rf[\"inliers_Amat\"][\"Lasso_cv All Testing Balanced Accs\"])\n",
    "mean_inliers_corr_bal_lr = np.mean(inliers_norm_lr_rf[\"inliers_corr\"][\"Lasso_cv All Testing Balanced Accs\"])\n",
    "std_inliers_a_bal_lr = np.std(inliers_norm_lr_rf[\"inliers_Amat\"][\"Lasso_cv All Testing Balanced Accs\"])\n",
    "std_inliers_corr_bal_lr = np.std(inliers_norm_lr_rf[\"inliers_corr\"][\"Lasso_cv All Testing Balanced Accs\"])\n",
    "\n",
    "mean_inliers_a_f1_lr = np.mean(inliers_norm_lr_rf[\"inliers_Amat\"][\"Lasso_cv All Testing F1 Scores\"])\n",
    "mean_inliers_corr_f1_lr = np.mean(inliers_norm_lr_rf[\"inliers_corr\"][\"Lasso_cv All Testing F1 Scores\"])\n",
    "std_inliers_a_f1_lr = np.std(inliers_norm_lr_rf[\"inliers_Amat\"][\"Lasso_cv All Testing F1 Scores\"])\n",
    "std_inliers_corr_f1_lr = np.std(inliers_norm_lr_rf[\"inliers_corr\"][\"Lasso_cv All Testing F1 Scores\"])\n"
   ]
  },
  {
   "cell_type": "code",
   "execution_count": null,
   "metadata": {},
   "outputs": [],
   "source": [
    "mean_all_a_lasso_test_bal_acc = np.mean(all_norm_lr[\"all_Amat\"][\"Lasso_cv All Testing Balanced Accs\"])\r\n",
    "mean_all_corr_lasso_test_bal_acc = np.mean(all_norm_lr[\"all_corr\"][\"Lasso_cv All Testing Balanced Accs\"])\r\n",
    "std_all_a_lasso_test_bal_acc = np.std(all_norm_lr[\"all_Amat\"][\"Lasso_cv All Testing Balanced Accs\"])\r\n",
    "std_all_corr_lasso_test_bal_acc = np.std(all_norm_lr[\"all_corr\"][\"Lasso_cv All Testing Balanced Accs\"])\r\n",
    "mean_all_a_rf_test_bal = np.mean(all_norm_rf[\"all_Amat\"][\"RandomForest_cv All Testing Balanced Accs\"])\r\n",
    "mean_all_corr_rf_test_bal = np.mean(all_norm_rf[\"all_corr\"][\"RandomForest_cv All Testing Balanced Accs\"])\r\n",
    "std_all_a_rf_test_bal = np.std(all_norm_rf[\"all_Amat\"][\"RandomForest_cv All Testing Balanced Accs\"])\r\n",
    "std_all_corr_rf_test_bal = np.std(all_norm_rf[\"all_corr\"][\"RandomForest_cv All Testing Balanced Accs\"])\r\n",
    "mean_all_a_harm_rf_bal = np.mean(all_norm_harm_rf[\"all_Amat\"][\"RandomForest_cv All Testing Balanced Accs\"])\r\n",
    "mean_all_corr_harm_rf_bal = np.mean(all_norm_harm_rf[\"all_corr\"][\"RandomForest_cv All Testing Balanced Accs\"])\r\n",
    "std_all_a_harm_rf_bal = np.std(all_norm_harm_rf[\"all_Amat\"][\"RandomForest_cv All Testing Balanced Accs\"])\r\n",
    "std_all_corr_harm_rf_bal = np.std(all_norm_harm_rf[\"all_corr\"][\"RandomForest_cv All Testing Balanced Accs\"])\r\n",
    "mean_inliers_a_bal_rf = np.mean(inliers_norm_lr_rf[\"inliers_Amat\"][\"RandomForest_cv All Testing Balanced Accs\"])\r\n",
    "mean_inliers_corr_bal_rf = np.mean(inliers_norm_lr_rf[\"inliers_corr\"][\"RandomForest_cv All Testing Balanced Accs\"])\r\n",
    "std_inliers_a_bal_rf = np.std(inliers_norm_lr_rf[\"inliers_Amat\"][\"RandomForest_cv All Testing Balanced Accs\"])\r\n",
    "std_inliers_corr_bal_rf = np.std(inliers_norm_lr_rf[\"inliers_corr\"][\"RandomForest_cv All Testing Balanced Accs\"])\r\n",
    "mean_inliers_a_bal_lr = np.mean(inliers_norm_lr_rf[\"inliers_Amat\"][\"Lasso_cv All Testing Balanced Accs\"])\r\n",
    "mean_inliers_corr_bal_lr = np.mean(inliers_norm_lr_rf[\"inliers_corr\"][\"Lasso_cv All Testing Balanced Accs\"])\r\n",
    "std_inliers_a_bal_lr = np.std(inliers_norm_lr_rf[\"inliers_Amat\"][\"Lasso_cv All Testing Balanced Accs\"])\r\n",
    "std_inliers_corr_bal_lr = np.std(inliers_norm_lr_rf[\"inliers_corr\"][\"Lasso_cv All Testing Balanced Accs\"])"
   ]
  },
  {
   "cell_type": "code",
   "execution_count": 60,
   "metadata": {},
   "outputs": [
    {
     "data": {
      "image/png": "[encoded data removed]",
      "text/plain": "<Figure size 576x396 with 1 Axes>"
     },
     "metadata": {},
     "output_type": "display_data"
    }
   ],
   "source": [
    "plt.style.use('seaborn')\r\n",
    "\r\n",
    "plt.bar(1,mean_all_corr_lasso_test_bal_acc, yerr=std_all_corr_lasso_test_bal_acc, color='skyblue')\r\n",
    "plt.bar(2,mean_all_a_lasso_test_bal_acc, yerr=std_all_a_lasso_test_bal_acc, color='orange')\r\n",
    "\r\n",
    "plt.bar(3,mean_inliers_corr_bal_lr, yerr=std_inliers_corr_bal_lr, color='skyblue')\r\n",
    "plt.bar(4,mean_inliers_a_bal_lr, yerr=std_inliers_a_bal_lr, color='orange')\r\n",
    "\r\n",
    "plt.bar(5,mean_all_corr_rf_test_bal, yerr=std_all_corr_rf_test_bal, color='skyblue')\r\n",
    "plt.bar(6,mean_all_a_rf_test_bal, yerr=std_all_a_rf_test_bal, color='orange')\r\n",
    "\r\n",
    "plt.bar(7,mean_inliers_corr_bal_rf, yerr=std_inliers_corr_bal_rf, color='skyblue')\r\n",
    "plt.bar(8,mean_inliers_a_bal_rf, yerr=std_inliers_a_bal_rf, color='orange')\r\n",
    "\r\n",
    "plt.bar(9,mean_all_corr_harm_rf_bal, yerr=std_all_corr_harm_rf_bal, color='skyblue')\r\n",
    "plt.bar(10,mean_all_a_harm_rf_bal, yerr=std_all_a_harm_rf_bal, color='orange')\r\n",
    "\r\n",
    "plt.xticks(np.arange(1,11))\r\n",
    "ax = plt.gca()\r\n",
    "ax.set_xticklabels(['Lasso All Correlation','Lasso All rDCM','Lasso Inliers Correlation','Lasso Inliers rDCM','Random Forest All Correlation', \\\r\n",
    "'Random Forest All rDCM','Random Forest Inliers Correlation','Random Forest Inliers rDCM','Random Forest Harmonised All Correlation','Random Forest Harmonised All rDCM'],rotation=90)\r\n",
    "plt.ylabel('Balanced Accuracy Classifier Performance')\r\n",
    "plt.title('Averaged Ensemble Classifier Performance')\r\n",
    "plt.tight_layout()\r\n",
    "plt.savefig('classifier-performance.pdf')\r\n",
    "plt.show()"
   ]
  }
 ],
 "metadata": {
  "kernelspec": {
   "display_name": "Python 3.9.4 64-bit",
   "name": "python394jvsc74a57bd01edce0b25732ef697872fcbeacb22edaf72c3789e6a34e8653bd03b41c1dfc41"
  },
  "language_info": {
   "codemirror_mode": {
    "name": "ipython",
    "version": 3
   },
   "file_extension": ".py",
   "mimetype": "text/x-python",
   "name": "python",
   "nbconvert_exporter": "python",
   "pygments_lexer": "ipython3",
   "version": "3.9.4"
  },
  "orig_nbformat": 3
 },
 "nbformat": 4,
 "nbformat_minor": 4
}