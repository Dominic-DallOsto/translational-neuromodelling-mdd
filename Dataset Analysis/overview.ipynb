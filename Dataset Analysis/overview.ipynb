{
 "cells": [
  {
   "cell_type": "code",
   "execution_count": 2,
   "metadata": {},
   "outputs": [],
   "source": [
    "import os\n",
    "import pandas as pd\n",
    "import numpy as np\n",
    "import scipy.optimize\n",
    "import matplotlib.pyplot as plt\n",
    "\n",
    "dataset_location = '../SRPBS_OPEN/' # made a hard link to the dataset here"
   ]
  },
  {
   "cell_type": "code",
   "execution_count": 5,
   "metadata": {},
   "outputs": [
    {
     "data": {
      "text/html": "<div>\n<style scoped>\n    .dataframe tbody tr th:only-of-type {\n        vertical-align: middle;\n    }\n\n    .dataframe tbody tr th {\n        vertical-align: top;\n    }\n\n    .dataframe thead th {\n        text-align: right;\n    }\n</style>\n<table border=\"1\" class=\"dataframe\">\n  <thead>\n    <tr style=\"text-align: right;\">\n      <th></th>\n      <th>participant_id</th>\n      <th>site</th>\n      <th>protocol</th>\n      <th>diag</th>\n      <th>age</th>\n      <th>sex</th>\n      <th>hand</th>\n      <th>sup</th>\n    </tr>\n  </thead>\n  <tbody>\n    <tr>\n      <th>0</th>\n      <td>sub-0001</td>\n      <td>SWA</td>\n      <td>1</td>\n      <td>0</td>\n      <td>23</td>\n      <td>1</td>\n      <td>1.0</td>\n      <td>1</td>\n    </tr>\n    <tr>\n      <th>1</th>\n      <td>sub-0002</td>\n      <td>SWA</td>\n      <td>1</td>\n      <td>0</td>\n      <td>23</td>\n      <td>2</td>\n      <td>1.0</td>\n      <td>1</td>\n    </tr>\n    <tr>\n      <th>2</th>\n      <td>sub-0003</td>\n      <td>SWA</td>\n      <td>1</td>\n      <td>0</td>\n      <td>26</td>\n      <td>1</td>\n      <td>1.0</td>\n      <td>1</td>\n    </tr>\n    <tr>\n      <th>3</th>\n      <td>sub-0004</td>\n      <td>SWA</td>\n      <td>1</td>\n      <td>0</td>\n      <td>23</td>\n      <td>1</td>\n      <td>1.0</td>\n      <td>1</td>\n    </tr>\n    <tr>\n      <th>4</th>\n      <td>sub-0005</td>\n      <td>SWA</td>\n      <td>1</td>\n      <td>0</td>\n      <td>24</td>\n      <td>1</td>\n      <td>1.0</td>\n      <td>1</td>\n    </tr>\n    <tr>\n      <th>...</th>\n      <td>...</td>\n      <td>...</td>\n      <td>...</td>\n      <td>...</td>\n      <td>...</td>\n      <td>...</td>\n      <td>...</td>\n      <td>...</td>\n    </tr>\n    <tr>\n      <th>1405</th>\n      <td>sub-1406</td>\n      <td>CIN</td>\n      <td>14</td>\n      <td>5</td>\n      <td>36</td>\n      <td>1</td>\n      <td>1.0</td>\n      <td>8</td>\n    </tr>\n    <tr>\n      <th>1406</th>\n      <td>sub-1407</td>\n      <td>CIN</td>\n      <td>14</td>\n      <td>5</td>\n      <td>56</td>\n      <td>2</td>\n      <td>1.0</td>\n      <td>8</td>\n    </tr>\n    <tr>\n      <th>1407</th>\n      <td>sub-1408</td>\n      <td>CIN</td>\n      <td>14</td>\n      <td>5</td>\n      <td>34</td>\n      <td>2</td>\n      <td>1.0</td>\n      <td>8</td>\n    </tr>\n    <tr>\n      <th>1408</th>\n      <td>sub-1409</td>\n      <td>CIN</td>\n      <td>14</td>\n      <td>5</td>\n      <td>56</td>\n      <td>1</td>\n      <td>1.0</td>\n      <td>8</td>\n    </tr>\n    <tr>\n      <th>1409</th>\n      <td>sub-1410</td>\n      <td>CIN</td>\n      <td>14</td>\n      <td>5</td>\n      <td>27</td>\n      <td>1</td>\n      <td>1.0</td>\n      <td>8</td>\n    </tr>\n  </tbody>\n</table>\n<p>1410 rows × 8 columns</p>\n</div>",
      "text/plain": "     participant_id site  protocol  diag  age  sex  hand  sup\n0          sub-0001  SWA         1     0   23    1   1.0    1\n1          sub-0002  SWA         1     0   23    2   1.0    1\n2          sub-0003  SWA         1     0   26    1   1.0    1\n3          sub-0004  SWA         1     0   23    1   1.0    1\n4          sub-0005  SWA         1     0   24    1   1.0    1\n...             ...  ...       ...   ...  ...  ...   ...  ...\n1405       sub-1406  CIN        14     5   36    1   1.0    8\n1406       sub-1407  CIN        14     5   56    2   1.0    8\n1407       sub-1408  CIN        14     5   34    2   1.0    8\n1408       sub-1409  CIN        14     5   56    1   1.0    8\n1409       sub-1410  CIN        14     5   27    1   1.0    8\n\n[1410 rows x 8 columns]"
     },
     "execution_count": 5,
     "metadata": {},
     "output_type": "execute_result"
    }
   ],
   "source": [
    "participants = pd.read_table(dataset_location+'participants.tsv')\n",
    "participants"
   ]
  },
  {
   "cell_type": "code",
   "execution_count": 6,
   "metadata": {},
   "outputs": [
    {
     "data": {
      "text/html": "<div>\n<style scoped>\n    .dataframe tbody tr th:only-of-type {\n        vertical-align: middle;\n    }\n\n    .dataframe tbody tr th {\n        vertical-align: top;\n    }\n\n    .dataframe thead th {\n        text-align: right;\n    }\n</style>\n<table border=\"1\" class=\"dataframe\">\n  <thead>\n    <tr style=\"text-align: right;\">\n      <th></th>\n      <th>participant_id</th>\n      <th>site</th>\n      <th>protocol</th>\n      <th>diag</th>\n      <th>age</th>\n      <th>sex</th>\n      <th>hand</th>\n      <th>sup</th>\n    </tr>\n  </thead>\n  <tbody>\n    <tr>\n      <th>0</th>\n      <td>sub-0001</td>\n      <td>SWA</td>\n      <td>1</td>\n      <td>0</td>\n      <td>23</td>\n      <td>1</td>\n      <td>1.0</td>\n      <td>1</td>\n    </tr>\n    <tr>\n      <th>1</th>\n      <td>sub-0002</td>\n      <td>SWA</td>\n      <td>1</td>\n      <td>0</td>\n      <td>23</td>\n      <td>2</td>\n      <td>1.0</td>\n      <td>1</td>\n    </tr>\n    <tr>\n      <th>2</th>\n      <td>sub-0003</td>\n      <td>SWA</td>\n      <td>1</td>\n      <td>0</td>\n      <td>26</td>\n      <td>1</td>\n      <td>1.0</td>\n      <td>1</td>\n    </tr>\n    <tr>\n      <th>3</th>\n      <td>sub-0004</td>\n      <td>SWA</td>\n      <td>1</td>\n      <td>0</td>\n      <td>23</td>\n      <td>1</td>\n      <td>1.0</td>\n      <td>1</td>\n    </tr>\n    <tr>\n      <th>4</th>\n      <td>sub-0005</td>\n      <td>SWA</td>\n      <td>1</td>\n      <td>0</td>\n      <td>24</td>\n      <td>1</td>\n      <td>1.0</td>\n      <td>1</td>\n    </tr>\n    <tr>\n      <th>...</th>\n      <td>...</td>\n      <td>...</td>\n      <td>...</td>\n      <td>...</td>\n      <td>...</td>\n      <td>...</td>\n      <td>...</td>\n      <td>...</td>\n    </tr>\n    <tr>\n      <th>1405</th>\n      <td>sub-1406</td>\n      <td>CIN</td>\n      <td>14</td>\n      <td>5</td>\n      <td>36</td>\n      <td>1</td>\n      <td>1.0</td>\n      <td>8</td>\n    </tr>\n    <tr>\n      <th>1406</th>\n      <td>sub-1407</td>\n      <td>CIN</td>\n      <td>14</td>\n      <td>5</td>\n      <td>56</td>\n      <td>2</td>\n      <td>1.0</td>\n      <td>8</td>\n    </tr>\n    <tr>\n      <th>1407</th>\n      <td>sub-1408</td>\n      <td>CIN</td>\n      <td>14</td>\n      <td>5</td>\n      <td>34</td>\n      <td>2</td>\n      <td>1.0</td>\n      <td>8</td>\n    </tr>\n    <tr>\n      <th>1408</th>\n      <td>sub-1409</td>\n      <td>CIN</td>\n      <td>14</td>\n      <td>5</td>\n      <td>56</td>\n      <td>1</td>\n      <td>1.0</td>\n      <td>8</td>\n    </tr>\n    <tr>\n      <th>1409</th>\n      <td>sub-1410</td>\n      <td>CIN</td>\n      <td>14</td>\n      <td>5</td>\n      <td>27</td>\n      <td>1</td>\n      <td>1.0</td>\n      <td>8</td>\n    </tr>\n  </tbody>\n</table>\n<p>1402 rows × 8 columns</p>\n</div>",
      "text/plain": "     participant_id site  protocol  diag  age  sex  hand  sup\n0          sub-0001  SWA         1     0   23    1   1.0    1\n1          sub-0002  SWA         1     0   23    2   1.0    1\n2          sub-0003  SWA         1     0   26    1   1.0    1\n3          sub-0004  SWA         1     0   23    1   1.0    1\n4          sub-0005  SWA         1     0   24    1   1.0    1\n...             ...  ...       ...   ...  ...  ...   ...  ...\n1405       sub-1406  CIN        14     5   36    1   1.0    8\n1406       sub-1407  CIN        14     5   56    2   1.0    8\n1407       sub-1408  CIN        14     5   34    2   1.0    8\n1408       sub-1409  CIN        14     5   56    1   1.0    8\n1409       sub-1410  CIN        14     5   27    1   1.0    8\n\n[1402 rows x 8 columns]"
     },
     "execution_count": 6,
     "metadata": {},
     "output_type": "execute_result"
    }
   ],
   "source": [
    "participants = participants.dropna()\n",
    "participants"
   ]
  },
  {
   "cell_type": "code",
   "execution_count": 7,
   "metadata": {},
   "outputs": [],
   "source": [
    "healthy_controls = participants[participants['diag'] == 0]\n",
    "mdd_patients = participants[participants['diag'] == 2]"
   ]
  },
  {
   "cell_type": "code",
   "execution_count": 8,
   "metadata": {},
   "outputs": [
    {
     "data": {
      "text/plain": "array(['ATT', 'ATV', 'CIN', 'COI', 'HKH', 'HRC', 'HUH', 'KTT', 'KUT',\n       'SWA', 'UTO'], dtype=object)"
     },
     "execution_count": 8,
     "metadata": {},
     "output_type": "execute_result"
    }
   ],
   "source": [
    "np.unique(participants.site.to_numpy())"
   ]
  },
  {
   "cell_type": "code",
   "execution_count": 9,
   "metadata": {},
   "outputs": [
    {
     "data": {
      "text/plain": "COI    71\nUTO    59\nHUH    57\nHKH    33\nHRC    16\nKUT    16\nName: site, dtype: int64"
     },
     "execution_count": 9,
     "metadata": {},
     "output_type": "execute_result"
    }
   ],
   "source": [
    "mdd_patients['site'].value_counts()"
   ]
  },
  {
   "cell_type": "code",
   "execution_count": 10,
   "metadata": {},
   "outputs": [
    {
     "data": {
      "text/plain": "KUT    159\nCOI    124\nSWA    101\nUTO     96\nKTT     75\nHUH     67\nHRC     49\nCIN     39\nATV     39\nHKH     29\nATT     13\nName: site, dtype: int64"
     },
     "execution_count": 10,
     "metadata": {},
     "output_type": "execute_result"
    }
   ],
   "source": [
    "healthy_controls['site'].value_counts()"
   ]
  },
  {
   "cell_type": "code",
   "execution_count": 7,
   "metadata": {},
   "outputs": [],
   "source": [
    "sites_in_common = set(mdd_patients.site).intersection(set(healthy_controls.site))"
   ]
  },
  {
   "cell_type": "code",
   "execution_count": 8,
   "metadata": {},
   "outputs": [],
   "source": [
    "def write_subjects(subjects, site:str):\n",
    "    subjects_ids = [int(subject[0].split('-')[1]) for subject in subjects]\n",
    "    with open(f'{site}_all.txt','w') as f:\n",
    "        f.write(str(subjects_ids))"
   ]
  },
  {
   "cell_type": "code",
   "execution_count": 9,
   "metadata": {},
   "outputs": [],
   "source": [
    "write_subjects(healthy_controls.to_numpy(), 'hc')\n",
    "write_subjects(mdd_patients.to_numpy(), 'mdd')\n",
    "\n",
    "for site in sites_in_common:\n",
    "    healthy_controls_at_site = healthy_controls[healthy_controls.site == site]\n",
    "    mdd_patients_at_site = mdd_patients[mdd_patients.site == site]\n",
    "    write_subjects(pd.concat((healthy_controls_at_site, mdd_patients_at_site)).to_numpy(), site)"
   ]
  },
  {
   "cell_type": "markdown",
   "metadata": {},
   "source": [
    "## Outliers"
   ]
  },
  {
   "cell_type": "code",
   "execution_count": 14,
   "metadata": {},
   "outputs": [],
   "source": [
    "import json\r\n",
    "outlier_ids = json.loads(open('all_motion_outliers.txt','r').read())"
   ]
  },
  {
   "cell_type": "code",
   "execution_count": 16,
   "metadata": {},
   "outputs": [
    {
     "data": {
      "text/html": "<div>\n<style scoped>\n    .dataframe tbody tr th:only-of-type {\n        vertical-align: middle;\n    }\n\n    .dataframe tbody tr th {\n        vertical-align: top;\n    }\n\n    .dataframe thead th {\n        text-align: right;\n    }\n</style>\n<table border=\"1\" class=\"dataframe\">\n  <thead>\n    <tr style=\"text-align: right;\">\n      <th></th>\n      <th>participant_id</th>\n      <th>site</th>\n      <th>protocol</th>\n      <th>diag</th>\n      <th>age</th>\n      <th>sex</th>\n      <th>hand</th>\n      <th>sup</th>\n    </tr>\n  </thead>\n  <tbody>\n    <tr>\n      <th>24</th>\n      <td>sub-0025</td>\n      <td>SWA</td>\n      <td>1</td>\n      <td>0</td>\n      <td>49</td>\n      <td>1</td>\n      <td>1.0</td>\n      <td>1</td>\n    </tr>\n    <tr>\n      <th>165</th>\n      <td>sub-0166</td>\n      <td>SWA</td>\n      <td>1</td>\n      <td>0</td>\n      <td>27</td>\n      <td>1</td>\n      <td>1.0</td>\n      <td>1</td>\n    </tr>\n    <tr>\n      <th>185</th>\n      <td>sub-0186</td>\n      <td>SWA</td>\n      <td>1</td>\n      <td>0</td>\n      <td>24</td>\n      <td>1</td>\n      <td>1.0</td>\n      <td>1</td>\n    </tr>\n    <tr>\n      <th>308</th>\n      <td>sub-0309</td>\n      <td>HUH</td>\n      <td>2</td>\n      <td>2</td>\n      <td>44</td>\n      <td>1</td>\n      <td>1.0</td>\n      <td>2</td>\n    </tr>\n    <tr>\n      <th>313</th>\n      <td>sub-0314</td>\n      <td>HUH</td>\n      <td>2</td>\n      <td>0</td>\n      <td>45</td>\n      <td>2</td>\n      <td>1.0</td>\n      <td>2</td>\n    </tr>\n    <tr>\n      <th>336</th>\n      <td>sub-0337</td>\n      <td>HUH</td>\n      <td>2</td>\n      <td>2</td>\n      <td>55</td>\n      <td>2</td>\n      <td>1.0</td>\n      <td>2</td>\n    </tr>\n    <tr>\n      <th>343</th>\n      <td>sub-0344</td>\n      <td>HUH</td>\n      <td>2</td>\n      <td>0</td>\n      <td>28</td>\n      <td>1</td>\n      <td>1.0</td>\n      <td>2</td>\n    </tr>\n    <tr>\n      <th>378</th>\n      <td>sub-0379</td>\n      <td>HRC</td>\n      <td>3</td>\n      <td>2</td>\n      <td>44</td>\n      <td>1</td>\n      <td>1.0</td>\n      <td>2</td>\n    </tr>\n    <tr>\n      <th>381</th>\n      <td>sub-0382</td>\n      <td>HRC</td>\n      <td>3</td>\n      <td>0</td>\n      <td>43</td>\n      <td>2</td>\n      <td>2.0</td>\n      <td>2</td>\n    </tr>\n    <tr>\n      <th>384</th>\n      <td>sub-0385</td>\n      <td>HRC</td>\n      <td>3</td>\n      <td>2</td>\n      <td>42</td>\n      <td>1</td>\n      <td>1.0</td>\n      <td>2</td>\n    </tr>\n    <tr>\n      <th>403</th>\n      <td>sub-0404</td>\n      <td>HRC</td>\n      <td>3</td>\n      <td>0</td>\n      <td>55</td>\n      <td>1</td>\n      <td>1.0</td>\n      <td>2</td>\n    </tr>\n    <tr>\n      <th>497</th>\n      <td>sub-0498</td>\n      <td>COI</td>\n      <td>5</td>\n      <td>2</td>\n      <td>52</td>\n      <td>2</td>\n      <td>1.0</td>\n      <td>2</td>\n    </tr>\n    <tr>\n      <th>499</th>\n      <td>sub-0500</td>\n      <td>COI</td>\n      <td>5</td>\n      <td>2</td>\n      <td>41</td>\n      <td>2</td>\n      <td>1.0</td>\n      <td>2</td>\n    </tr>\n    <tr>\n      <th>502</th>\n      <td>sub-0503</td>\n      <td>COI</td>\n      <td>5</td>\n      <td>0</td>\n      <td>66</td>\n      <td>2</td>\n      <td>1.0</td>\n      <td>2</td>\n    </tr>\n    <tr>\n      <th>535</th>\n      <td>sub-0536</td>\n      <td>COI</td>\n      <td>5</td>\n      <td>0</td>\n      <td>20</td>\n      <td>2</td>\n      <td>1.0</td>\n      <td>2</td>\n    </tr>\n    <tr>\n      <th>539</th>\n      <td>sub-0540</td>\n      <td>COI</td>\n      <td>5</td>\n      <td>0</td>\n      <td>52</td>\n      <td>2</td>\n      <td>1.0</td>\n      <td>2</td>\n    </tr>\n    <tr>\n      <th>544</th>\n      <td>sub-0545</td>\n      <td>COI</td>\n      <td>5</td>\n      <td>2</td>\n      <td>39</td>\n      <td>2</td>\n      <td>1.0</td>\n      <td>2</td>\n    </tr>\n    <tr>\n      <th>545</th>\n      <td>sub-0546</td>\n      <td>COI</td>\n      <td>5</td>\n      <td>0</td>\n      <td>47</td>\n      <td>2</td>\n      <td>1.0</td>\n      <td>2</td>\n    </tr>\n    <tr>\n      <th>546</th>\n      <td>sub-0547</td>\n      <td>COI</td>\n      <td>5</td>\n      <td>2</td>\n      <td>50</td>\n      <td>2</td>\n      <td>1.0</td>\n      <td>2</td>\n    </tr>\n    <tr>\n      <th>594</th>\n      <td>sub-0595</td>\n      <td>COI</td>\n      <td>5</td>\n      <td>2</td>\n      <td>48</td>\n      <td>2</td>\n      <td>1.0</td>\n      <td>2</td>\n    </tr>\n    <tr>\n      <th>600</th>\n      <td>sub-0601</td>\n      <td>COI</td>\n      <td>5</td>\n      <td>0</td>\n      <td>56</td>\n      <td>1</td>\n      <td>1.0</td>\n      <td>2</td>\n    </tr>\n    <tr>\n      <th>605</th>\n      <td>sub-0606</td>\n      <td>COI</td>\n      <td>5</td>\n      <td>2</td>\n      <td>50</td>\n      <td>1</td>\n      <td>1.0</td>\n      <td>2</td>\n    </tr>\n    <tr>\n      <th>623</th>\n      <td>sub-0624</td>\n      <td>COI</td>\n      <td>5</td>\n      <td>0</td>\n      <td>60</td>\n      <td>2</td>\n      <td>1.0</td>\n      <td>2</td>\n    </tr>\n    <tr>\n      <th>624</th>\n      <td>sub-0625</td>\n      <td>COI</td>\n      <td>5</td>\n      <td>0</td>\n      <td>49</td>\n      <td>2</td>\n      <td>1.0</td>\n      <td>2</td>\n    </tr>\n    <tr>\n      <th>626</th>\n      <td>sub-0627</td>\n      <td>COI</td>\n      <td>5</td>\n      <td>0</td>\n      <td>67</td>\n      <td>2</td>\n      <td>1.0</td>\n      <td>2</td>\n    </tr>\n    <tr>\n      <th>627</th>\n      <td>sub-0628</td>\n      <td>COI</td>\n      <td>5</td>\n      <td>0</td>\n      <td>68</td>\n      <td>2</td>\n      <td>1.0</td>\n      <td>2</td>\n    </tr>\n    <tr>\n      <th>633</th>\n      <td>sub-0634</td>\n      <td>COI</td>\n      <td>5</td>\n      <td>0</td>\n      <td>66</td>\n      <td>2</td>\n      <td>1.0</td>\n      <td>2</td>\n    </tr>\n    <tr>\n      <th>636</th>\n      <td>sub-0637</td>\n      <td>COI</td>\n      <td>5</td>\n      <td>0</td>\n      <td>65</td>\n      <td>1</td>\n      <td>1.0</td>\n      <td>2</td>\n    </tr>\n    <tr>\n      <th>637</th>\n      <td>sub-0638</td>\n      <td>COI</td>\n      <td>5</td>\n      <td>0</td>\n      <td>46</td>\n      <td>2</td>\n      <td>1.0</td>\n      <td>2</td>\n    </tr>\n    <tr>\n      <th>638</th>\n      <td>sub-0639</td>\n      <td>COI</td>\n      <td>5</td>\n      <td>0</td>\n      <td>42</td>\n      <td>2</td>\n      <td>1.0</td>\n      <td>2</td>\n    </tr>\n    <tr>\n      <th>640</th>\n      <td>sub-0641</td>\n      <td>COI</td>\n      <td>5</td>\n      <td>0</td>\n      <td>57</td>\n      <td>2</td>\n      <td>1.0</td>\n      <td>2</td>\n    </tr>\n    <tr>\n      <th>656</th>\n      <td>sub-0657</td>\n      <td>COI</td>\n      <td>5</td>\n      <td>0</td>\n      <td>48</td>\n      <td>2</td>\n      <td>1.0</td>\n      <td>2</td>\n    </tr>\n    <tr>\n      <th>658</th>\n      <td>sub-0659</td>\n      <td>COI</td>\n      <td>5</td>\n      <td>0</td>\n      <td>64</td>\n      <td>2</td>\n      <td>1.0</td>\n      <td>2</td>\n    </tr>\n    <tr>\n      <th>667</th>\n      <td>sub-0668</td>\n      <td>COI</td>\n      <td>5</td>\n      <td>0</td>\n      <td>35</td>\n      <td>2</td>\n      <td>1.0</td>\n      <td>2</td>\n    </tr>\n    <tr>\n      <th>724</th>\n      <td>sub-0725</td>\n      <td>KUT</td>\n      <td>6</td>\n      <td>0</td>\n      <td>39</td>\n      <td>1</td>\n      <td>1.0</td>\n      <td>4</td>\n    </tr>\n    <tr>\n      <th>797</th>\n      <td>sub-0798</td>\n      <td>KUT</td>\n      <td>6</td>\n      <td>0</td>\n      <td>24</td>\n      <td>1</td>\n      <td>1.0</td>\n      <td>4</td>\n    </tr>\n    <tr>\n      <th>813</th>\n      <td>sub-0814</td>\n      <td>KUT</td>\n      <td>6</td>\n      <td>0</td>\n      <td>41</td>\n      <td>2</td>\n      <td>1.0</td>\n      <td>4</td>\n    </tr>\n    <tr>\n      <th>882</th>\n      <td>sub-0883</td>\n      <td>KUT</td>\n      <td>6</td>\n      <td>2</td>\n      <td>22</td>\n      <td>1</td>\n      <td>1.0</td>\n      <td>5</td>\n    </tr>\n    <tr>\n      <th>953</th>\n      <td>sub-0954</td>\n      <td>KTT</td>\n      <td>7</td>\n      <td>0</td>\n      <td>28</td>\n      <td>1</td>\n      <td>1.0</td>\n      <td>4</td>\n    </tr>\n    <tr>\n      <th>966</th>\n      <td>sub-0967</td>\n      <td>KTT</td>\n      <td>7</td>\n      <td>0</td>\n      <td>20</td>\n      <td>2</td>\n      <td>1.0</td>\n      <td>4</td>\n    </tr>\n    <tr>\n      <th>1012</th>\n      <td>sub-1013</td>\n      <td>COI</td>\n      <td>5</td>\n      <td>2</td>\n      <td>31</td>\n      <td>1</td>\n      <td>1.0</td>\n      <td>2</td>\n    </tr>\n    <tr>\n      <th>1018</th>\n      <td>sub-1019</td>\n      <td>COI</td>\n      <td>5</td>\n      <td>2</td>\n      <td>45</td>\n      <td>2</td>\n      <td>1.0</td>\n      <td>2</td>\n    </tr>\n    <tr>\n      <th>1019</th>\n      <td>sub-1020</td>\n      <td>COI</td>\n      <td>5</td>\n      <td>2</td>\n      <td>27</td>\n      <td>1</td>\n      <td>1.0</td>\n      <td>2</td>\n    </tr>\n    <tr>\n      <th>1051</th>\n      <td>sub-1052</td>\n      <td>UTO</td>\n      <td>8</td>\n      <td>0</td>\n      <td>47</td>\n      <td>1</td>\n      <td>0.0</td>\n      <td>6</td>\n    </tr>\n    <tr>\n      <th>1056</th>\n      <td>sub-1057</td>\n      <td>UTO</td>\n      <td>8</td>\n      <td>0</td>\n      <td>35</td>\n      <td>1</td>\n      <td>1.0</td>\n      <td>6</td>\n    </tr>\n    <tr>\n      <th>1117</th>\n      <td>sub-1118</td>\n      <td>UTO</td>\n      <td>8</td>\n      <td>0</td>\n      <td>65</td>\n      <td>2</td>\n      <td>1.0</td>\n      <td>6</td>\n    </tr>\n    <tr>\n      <th>1188</th>\n      <td>sub-1189</td>\n      <td>UTO</td>\n      <td>8</td>\n      <td>2</td>\n      <td>48</td>\n      <td>1</td>\n      <td>1.0</td>\n      <td>6</td>\n    </tr>\n    <tr>\n      <th>1318</th>\n      <td>sub-1319</td>\n      <td>ATT</td>\n      <td>11</td>\n      <td>0</td>\n      <td>22</td>\n      <td>1</td>\n      <td>1.0</td>\n      <td>9</td>\n    </tr>\n    <tr>\n      <th>1344</th>\n      <td>sub-1345</td>\n      <td>ATT</td>\n      <td>12</td>\n      <td>0</td>\n      <td>23</td>\n      <td>1</td>\n      <td>1.0</td>\n      <td>9</td>\n    </tr>\n  </tbody>\n</table>\n</div>",
      "text/plain": "     participant_id site  protocol  diag  age  sex  hand  sup\n24         sub-0025  SWA         1     0   49    1   1.0    1\n165        sub-0166  SWA         1     0   27    1   1.0    1\n185        sub-0186  SWA         1     0   24    1   1.0    1\n308        sub-0309  HUH         2     2   44    1   1.0    2\n313        sub-0314  HUH         2     0   45    2   1.0    2\n336        sub-0337  HUH         2     2   55    2   1.0    2\n343        sub-0344  HUH         2     0   28    1   1.0    2\n378        sub-0379  HRC         3     2   44    1   1.0    2\n381        sub-0382  HRC         3     0   43    2   2.0    2\n384        sub-0385  HRC         3     2   42    1   1.0    2\n403        sub-0404  HRC         3     0   55    1   1.0    2\n497        sub-0498  COI         5     2   52    2   1.0    2\n499        sub-0500  COI         5     2   41    2   1.0    2\n502        sub-0503  COI         5     0   66    2   1.0    2\n535        sub-0536  COI         5     0   20    2   1.0    2\n539        sub-0540  COI         5     0   52    2   1.0    2\n544        sub-0545  COI         5     2   39    2   1.0    2\n545        sub-0546  COI         5     0   47    2   1.0    2\n546        sub-0547  COI         5     2   50    2   1.0    2\n594        sub-0595  COI         5     2   48    2   1.0    2\n600        sub-0601  COI         5     0   56    1   1.0    2\n605        sub-0606  COI         5     2   50    1   1.0    2\n623        sub-0624  COI         5     0   60    2   1.0    2\n624        sub-0625  COI         5     0   49    2   1.0    2\n626        sub-0627  COI         5     0   67    2   1.0    2\n627        sub-0628  COI         5     0   68    2   1.0    2\n633        sub-0634  COI         5     0   66    2   1.0    2\n636        sub-0637  COI         5     0   65    1   1.0    2\n637        sub-0638  COI         5     0   46    2   1.0    2\n638        sub-0639  COI         5     0   42    2   1.0    2\n640        sub-0641  COI         5     0   57    2   1.0    2\n656        sub-0657  COI         5     0   48    2   1.0    2\n658        sub-0659  COI         5     0   64    2   1.0    2\n667        sub-0668  COI         5     0   35    2   1.0    2\n724        sub-0725  KUT         6     0   39    1   1.0    4\n797        sub-0798  KUT         6     0   24    1   1.0    4\n813        sub-0814  KUT         6     0   41    2   1.0    4\n882        sub-0883  KUT         6     2   22    1   1.0    5\n953        sub-0954  KTT         7     0   28    1   1.0    4\n966        sub-0967  KTT         7     0   20    2   1.0    4\n1012       sub-1013  COI         5     2   31    1   1.0    2\n1018       sub-1019  COI         5     2   45    2   1.0    2\n1019       sub-1020  COI         5     2   27    1   1.0    2\n1051       sub-1052  UTO         8     0   47    1   0.0    6\n1056       sub-1057  UTO         8     0   35    1   1.0    6\n1117       sub-1118  UTO         8     0   65    2   1.0    6\n1188       sub-1189  UTO         8     2   48    1   1.0    6\n1318       sub-1319  ATT        11     0   22    1   1.0    9\n1344       sub-1345  ATT        12     0   23    1   1.0    9"
     },
     "execution_count": 16,
     "metadata": {},
     "output_type": "execute_result"
    }
   ],
   "source": [
    "outliers_data = participants[[int(name[-4:]) in outlier_ids for name in participants.participant_id.to_numpy()]]\r\n",
    "outliers_data"
   ]
  },
  {
   "cell_type": "code",
   "execution_count": 18,
   "metadata": {},
   "outputs": [
    {
     "data": {
      "text/plain": "COI    26\nUTO     4\nKUT     4\nHUH     4\nHRC     4\nSWA     3\nATT     2\nKTT     2\nName: site, dtype: int64"
     },
     "execution_count": 18,
     "metadata": {},
     "output_type": "execute_result"
    }
   ],
   "source": [
    "outliers_data.site.value_counts()"
   ]
  },
  {
   "cell_type": "code",
   "execution_count": 19,
   "metadata": {},
   "outputs": [
    {
     "data": {
      "text/plain": "0    34\n2    15\nName: diag, dtype: int64"
     },
     "execution_count": 19,
     "metadata": {},
     "output_type": "execute_result"
    }
   ],
   "source": [
    "outliers_data.diag.value_counts()"
   ]
  }
 ],
 "metadata": {
  "kernelspec": {
   "display_name": "Python 3.9.4 64-bit",
   "name": "python394jvsc74a57bd01edce0b25732ef697872fcbeacb22edaf72c3789e6a34e8653bd03b41c1dfc41"
  },
  "language_info": {
   "codemirror_mode": {
    "name": "ipython",
    "version": 3
   },
   "file_extension": ".py",
   "mimetype": "text/x-python",
   "name": "python",
   "nbconvert_exporter": "python",
   "pygments_lexer": "ipython3",
   "version": "3.9.4"
  },
  "orig_nbformat": 2
 },
 "nbformat": 4,
 "nbformat_minor": 2
}