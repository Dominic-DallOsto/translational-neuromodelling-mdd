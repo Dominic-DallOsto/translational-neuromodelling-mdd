{
 "metadata": {
  "language_info": {
   "codemirror_mode": {
    "name": "ipython",
    "version": 3
   },
   "file_extension": ".py",
   "mimetype": "text/x-python",
   "name": "python",
   "nbconvert_exporter": "python",
   "pygments_lexer": "ipython3",
   "version": "3.9.4"
  },
  "orig_nbformat": 2,
  "kernelspec": {
   "name": "python394jvsc74a57bd01edce0b25732ef697872fcbeacb22edaf72c3789e6a34e8653bd03b41c1dfc41",
   "display_name": "Python 3.9.4 64-bit ('translational': conda)"
  }
 },
 "nbformat": 4,
 "nbformat_minor": 2,
 "cells": [
  {
   "cell_type": "code",
   "execution_count": 1,
   "metadata": {},
   "outputs": [],
   "source": [
    "import os\n",
    "import pandas as pd\n",
    "import numpy as np\n",
    "import scipy.optimize\n",
    "import matplotlib.pyplot as plt\n",
    "\n",
    "dataset_location = '../SRPBS_OPEN/' # made a hard link to the dataset here"
   ]
  },
  {
   "cell_type": "code",
   "execution_count": 2,
   "metadata": {},
   "outputs": [
    {
     "output_type": "execute_result",
     "data": {
      "text/plain": [
       "     participant_id site  protocol  diag  age  sex  hand  sup\n",
       "0          sub-0001  SWA         1     0   23    1   1.0    1\n",
       "1          sub-0002  SWA         1     0   23    2   1.0    1\n",
       "2          sub-0003  SWA         1     0   26    1   1.0    1\n",
       "3          sub-0004  SWA         1     0   23    1   1.0    1\n",
       "4          sub-0005  SWA         1     0   24    1   1.0    1\n",
       "...             ...  ...       ...   ...  ...  ...   ...  ...\n",
       "1405       sub-1406  CIN        14     5   36    1   1.0    8\n",
       "1406       sub-1407  CIN        14     5   56    2   1.0    8\n",
       "1407       sub-1408  CIN        14     5   34    2   1.0    8\n",
       "1408       sub-1409  CIN        14     5   56    1   1.0    8\n",
       "1409       sub-1410  CIN        14     5   27    1   1.0    8\n",
       "\n",
       "[1410 rows x 8 columns]"
      ],
      "text/html": "<div>\n<style scoped>\n    .dataframe tbody tr th:only-of-type {\n        vertical-align: middle;\n    }\n\n    .dataframe tbody tr th {\n        vertical-align: top;\n    }\n\n    .dataframe thead th {\n        text-align: right;\n    }\n</style>\n<table border=\"1\" class=\"dataframe\">\n  <thead>\n    <tr style=\"text-align: right;\">\n      <th></th>\n      <th>participant_id</th>\n      <th>site</th>\n      <th>protocol</th>\n      <th>diag</th>\n      <th>age</th>\n      <th>sex</th>\n      <th>hand</th>\n      <th>sup</th>\n    </tr>\n  </thead>\n  <tbody>\n    <tr>\n      <th>0</th>\n      <td>sub-0001</td>\n      <td>SWA</td>\n      <td>1</td>\n      <td>0</td>\n      <td>23</td>\n      <td>1</td>\n      <td>1.0</td>\n      <td>1</td>\n    </tr>\n    <tr>\n      <th>1</th>\n      <td>sub-0002</td>\n      <td>SWA</td>\n      <td>1</td>\n      <td>0</td>\n      <td>23</td>\n      <td>2</td>\n      <td>1.0</td>\n      <td>1</td>\n    </tr>\n    <tr>\n      <th>2</th>\n      <td>sub-0003</td>\n      <td>SWA</td>\n      <td>1</td>\n      <td>0</td>\n      <td>26</td>\n      <td>1</td>\n      <td>1.0</td>\n      <td>1</td>\n    </tr>\n    <tr>\n      <th>3</th>\n      <td>sub-0004</td>\n      <td>SWA</td>\n      <td>1</td>\n      <td>0</td>\n      <td>23</td>\n      <td>1</td>\n      <td>1.0</td>\n      <td>1</td>\n    </tr>\n    <tr>\n      <th>4</th>\n      <td>sub-0005</td>\n      <td>SWA</td>\n      <td>1</td>\n      <td>0</td>\n      <td>24</td>\n      <td>1</td>\n      <td>1.0</td>\n      <td>1</td>\n    </tr>\n    <tr>\n      <th>...</th>\n      <td>...</td>\n      <td>...</td>\n      <td>...</td>\n      <td>...</td>\n      <td>...</td>\n      <td>...</td>\n      <td>...</td>\n      <td>...</td>\n    </tr>\n    <tr>\n      <th>1405</th>\n      <td>sub-1406</td>\n      <td>CIN</td>\n      <td>14</td>\n      <td>5</td>\n      <td>36</td>\n      <td>1</td>\n      <td>1.0</td>\n      <td>8</td>\n    </tr>\n    <tr>\n      <th>1406</th>\n      <td>sub-1407</td>\n      <td>CIN</td>\n      <td>14</td>\n      <td>5</td>\n      <td>56</td>\n      <td>2</td>\n      <td>1.0</td>\n      <td>8</td>\n    </tr>\n    <tr>\n      <th>1407</th>\n      <td>sub-1408</td>\n      <td>CIN</td>\n      <td>14</td>\n      <td>5</td>\n      <td>34</td>\n      <td>2</td>\n      <td>1.0</td>\n      <td>8</td>\n    </tr>\n    <tr>\n      <th>1408</th>\n      <td>sub-1409</td>\n      <td>CIN</td>\n      <td>14</td>\n      <td>5</td>\n      <td>56</td>\n      <td>1</td>\n      <td>1.0</td>\n      <td>8</td>\n    </tr>\n    <tr>\n      <th>1409</th>\n      <td>sub-1410</td>\n      <td>CIN</td>\n      <td>14</td>\n      <td>5</td>\n      <td>27</td>\n      <td>1</td>\n      <td>1.0</td>\n      <td>8</td>\n    </tr>\n  </tbody>\n</table>\n<p>1410 rows × 8 columns</p>\n</div>"
     },
     "metadata": {},
     "execution_count": 2
    }
   ],
   "source": [
    "participants = pd.read_table(dataset_location+'participants.tsv')\n",
    "participants"
   ]
  },
  {
   "cell_type": "code",
   "execution_count": 3,
   "metadata": {},
   "outputs": [
    {
     "output_type": "execute_result",
     "data": {
      "text/plain": [
       "     participant_id site  protocol  diag  age  sex  hand  sup\n",
       "0          sub-0001  SWA         1     0   23    1   1.0    1\n",
       "1          sub-0002  SWA         1     0   23    2   1.0    1\n",
       "2          sub-0003  SWA         1     0   26    1   1.0    1\n",
       "3          sub-0004  SWA         1     0   23    1   1.0    1\n",
       "4          sub-0005  SWA         1     0   24    1   1.0    1\n",
       "...             ...  ...       ...   ...  ...  ...   ...  ...\n",
       "1405       sub-1406  CIN        14     5   36    1   1.0    8\n",
       "1406       sub-1407  CIN        14     5   56    2   1.0    8\n",
       "1407       sub-1408  CIN        14     5   34    2   1.0    8\n",
       "1408       sub-1409  CIN        14     5   56    1   1.0    8\n",
       "1409       sub-1410  CIN        14     5   27    1   1.0    8\n",
       "\n",
       "[1402 rows x 8 columns]"
      ],
      "text/html": "<div>\n<style scoped>\n    .dataframe tbody tr th:only-of-type {\n        vertical-align: middle;\n    }\n\n    .dataframe tbody tr th {\n        vertical-align: top;\n    }\n\n    .dataframe thead th {\n        text-align: right;\n    }\n</style>\n<table border=\"1\" class=\"dataframe\">\n  <thead>\n    <tr style=\"text-align: right;\">\n      <th></th>\n      <th>participant_id</th>\n      <th>site</th>\n      <th>protocol</th>\n      <th>diag</th>\n      <th>age</th>\n      <th>sex</th>\n      <th>hand</th>\n      <th>sup</th>\n    </tr>\n  </thead>\n  <tbody>\n    <tr>\n      <th>0</th>\n      <td>sub-0001</td>\n      <td>SWA</td>\n      <td>1</td>\n      <td>0</td>\n      <td>23</td>\n      <td>1</td>\n      <td>1.0</td>\n      <td>1</td>\n    </tr>\n    <tr>\n      <th>1</th>\n      <td>sub-0002</td>\n      <td>SWA</td>\n      <td>1</td>\n      <td>0</td>\n      <td>23</td>\n      <td>2</td>\n      <td>1.0</td>\n      <td>1</td>\n    </tr>\n    <tr>\n      <th>2</th>\n      <td>sub-0003</td>\n      <td>SWA</td>\n      <td>1</td>\n      <td>0</td>\n      <td>26</td>\n      <td>1</td>\n      <td>1.0</td>\n      <td>1</td>\n    </tr>\n    <tr>\n      <th>3</th>\n      <td>sub-0004</td>\n      <td>SWA</td>\n      <td>1</td>\n      <td>0</td>\n      <td>23</td>\n      <td>1</td>\n      <td>1.0</td>\n      <td>1</td>\n    </tr>\n    <tr>\n      <th>4</th>\n      <td>sub-0005</td>\n      <td>SWA</td>\n      <td>1</td>\n      <td>0</td>\n      <td>24</td>\n      <td>1</td>\n      <td>1.0</td>\n      <td>1</td>\n    </tr>\n    <tr>\n      <th>...</th>\n      <td>...</td>\n      <td>...</td>\n      <td>...</td>\n      <td>...</td>\n      <td>...</td>\n      <td>...</td>\n      <td>...</td>\n      <td>...</td>\n    </tr>\n    <tr>\n      <th>1405</th>\n      <td>sub-1406</td>\n      <td>CIN</td>\n      <td>14</td>\n      <td>5</td>\n      <td>36</td>\n      <td>1</td>\n      <td>1.0</td>\n      <td>8</td>\n    </tr>\n    <tr>\n      <th>1406</th>\n      <td>sub-1407</td>\n      <td>CIN</td>\n      <td>14</td>\n      <td>5</td>\n      <td>56</td>\n      <td>2</td>\n      <td>1.0</td>\n      <td>8</td>\n    </tr>\n    <tr>\n      <th>1407</th>\n      <td>sub-1408</td>\n      <td>CIN</td>\n      <td>14</td>\n      <td>5</td>\n      <td>34</td>\n      <td>2</td>\n      <td>1.0</td>\n      <td>8</td>\n    </tr>\n    <tr>\n      <th>1408</th>\n      <td>sub-1409</td>\n      <td>CIN</td>\n      <td>14</td>\n      <td>5</td>\n      <td>56</td>\n      <td>1</td>\n      <td>1.0</td>\n      <td>8</td>\n    </tr>\n    <tr>\n      <th>1409</th>\n      <td>sub-1410</td>\n      <td>CIN</td>\n      <td>14</td>\n      <td>5</td>\n      <td>27</td>\n      <td>1</td>\n      <td>1.0</td>\n      <td>8</td>\n    </tr>\n  </tbody>\n</table>\n<p>1402 rows × 8 columns</p>\n</div>"
     },
     "metadata": {},
     "execution_count": 3
    }
   ],
   "source": [
    "participants = participants.dropna()\n",
    "participants"
   ]
  },
  {
   "cell_type": "code",
   "execution_count": 4,
   "metadata": {},
   "outputs": [],
   "source": [
    "healthy_controls = participants[participants['diag'] == 0]\n",
    "mdd_patients = participants[participants['diag'] == 2]"
   ]
  },
  {
   "cell_type": "code",
   "execution_count": 5,
   "metadata": {},
   "outputs": [
    {
     "output_type": "execute_result",
     "data": {
      "text/plain": [
       "COI    71\n",
       "UTO    59\n",
       "HUH    57\n",
       "HKH    33\n",
       "KUT    16\n",
       "HRC    16\n",
       "Name: site, dtype: int64"
      ]
     },
     "metadata": {},
     "execution_count": 5
    }
   ],
   "source": [
    "mdd_patients['site'].value_counts()"
   ]
  },
  {
   "cell_type": "code",
   "execution_count": 6,
   "metadata": {},
   "outputs": [
    {
     "output_type": "execute_result",
     "data": {
      "text/plain": [
       "KUT    159\n",
       "COI    124\n",
       "SWA    101\n",
       "UTO     96\n",
       "KTT     75\n",
       "HUH     67\n",
       "HRC     49\n",
       "CIN     39\n",
       "ATV     39\n",
       "HKH     29\n",
       "ATT     13\n",
       "Name: site, dtype: int64"
      ]
     },
     "metadata": {},
     "execution_count": 6
    }
   ],
   "source": [
    "healthy_controls['site'].value_counts()"
   ]
  },
  {
   "cell_type": "code",
   "execution_count": 7,
   "metadata": {},
   "outputs": [],
   "source": [
    "sites_in_common = set(mdd_patients.site).intersection(set(healthy_controls.site))"
   ]
  },
  {
   "cell_type": "code",
   "execution_count": 8,
   "metadata": {},
   "outputs": [],
   "source": [
    "def write_subjects(subjects, site:str):\n",
    "    subjects_ids = [int(subject[0].split('-')[1]) for subject in subjects]\n",
    "    with open(f'{site}_all.txt','w') as f:\n",
    "        f.write(str(subjects_ids))"
   ]
  },
  {
   "cell_type": "code",
   "execution_count": 9,
   "metadata": {},
   "outputs": [],
   "source": [
    "write_subjects(healthy_controls.to_numpy(), 'hc')\n",
    "write_subjects(mdd_patients.to_numpy(), 'mdd')\n",
    "\n",
    "for site in sites_in_common:\n",
    "    healthy_controls_at_site = healthy_controls[healthy_controls.site == site]\n",
    "    mdd_patients_at_site = mdd_patients[mdd_patients.site == site]\n",
    "    write_subjects(pd.concat((healthy_controls_at_site, mdd_patients_at_site)).to_numpy(), site)"
   ]
  }
 ]
}