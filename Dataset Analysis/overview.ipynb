{
 "metadata": {
  "language_info": {
   "codemirror_mode": {
    "name": "ipython",
    "version": 3
   },
   "file_extension": ".py",
   "mimetype": "text/x-python",
   "name": "python",
   "nbconvert_exporter": "python",
   "pygments_lexer": "ipython3",
   "version": "3.9.4"
  },
  "orig_nbformat": 2,
  "kernelspec": {
   "name": "python394jvsc74a57bd01edce0b25732ef697872fcbeacb22edaf72c3789e6a34e8653bd03b41c1dfc41",
   "display_name": "Python 3.9.4 64-bit ('translational': conda)"
  }
 },
 "nbformat": 4,
 "nbformat_minor": 2,
 "cells": [
  {
   "cell_type": "code",
   "execution_count": 1,
   "metadata": {},
   "outputs": [],
   "source": [
    "import os\n",
    "import pandas as pd\n",
    "import numpy as np\n",
    "\n",
    "dataset_location = '../SRPBS_OPEN/' # made a hard link to the dataset here\n",
    "np.random.seed(1) # for reproducible random sampling"
   ]
  },
  {
   "cell_type": "code",
   "execution_count": 2,
   "metadata": {},
   "outputs": [
    {
     "output_type": "execute_result",
     "data": {
      "text/plain": [
       "     participant_id site  protocol  diag  age  sex  hand  sup\n",
       "0          sub-0001  SWA         1     0   23    1   1.0    1\n",
       "1          sub-0002  SWA         1     0   23    2   1.0    1\n",
       "2          sub-0003  SWA         1     0   26    1   1.0    1\n",
       "3          sub-0004  SWA         1     0   23    1   1.0    1\n",
       "4          sub-0005  SWA         1     0   24    1   1.0    1\n",
       "...             ...  ...       ...   ...  ...  ...   ...  ...\n",
       "1405       sub-1406  CIN        14     5   36    1   1.0    8\n",
       "1406       sub-1407  CIN        14     5   56    2   1.0    8\n",
       "1407       sub-1408  CIN        14     5   34    2   1.0    8\n",
       "1408       sub-1409  CIN        14     5   56    1   1.0    8\n",
       "1409       sub-1410  CIN        14     5   27    1   1.0    8\n",
       "\n",
       "[1410 rows x 8 columns]"
      ],
      "text/html": "<div>\n<style scoped>\n    .dataframe tbody tr th:only-of-type {\n        vertical-align: middle;\n    }\n\n    .dataframe tbody tr th {\n        vertical-align: top;\n    }\n\n    .dataframe thead th {\n        text-align: right;\n    }\n</style>\n<table border=\"1\" class=\"dataframe\">\n  <thead>\n    <tr style=\"text-align: right;\">\n      <th></th>\n      <th>participant_id</th>\n      <th>site</th>\n      <th>protocol</th>\n      <th>diag</th>\n      <th>age</th>\n      <th>sex</th>\n      <th>hand</th>\n      <th>sup</th>\n    </tr>\n  </thead>\n  <tbody>\n    <tr>\n      <th>0</th>\n      <td>sub-0001</td>\n      <td>SWA</td>\n      <td>1</td>\n      <td>0</td>\n      <td>23</td>\n      <td>1</td>\n      <td>1.0</td>\n      <td>1</td>\n    </tr>\n    <tr>\n      <th>1</th>\n      <td>sub-0002</td>\n      <td>SWA</td>\n      <td>1</td>\n      <td>0</td>\n      <td>23</td>\n      <td>2</td>\n      <td>1.0</td>\n      <td>1</td>\n    </tr>\n    <tr>\n      <th>2</th>\n      <td>sub-0003</td>\n      <td>SWA</td>\n      <td>1</td>\n      <td>0</td>\n      <td>26</td>\n      <td>1</td>\n      <td>1.0</td>\n      <td>1</td>\n    </tr>\n    <tr>\n      <th>3</th>\n      <td>sub-0004</td>\n      <td>SWA</td>\n      <td>1</td>\n      <td>0</td>\n      <td>23</td>\n      <td>1</td>\n      <td>1.0</td>\n      <td>1</td>\n    </tr>\n    <tr>\n      <th>4</th>\n      <td>sub-0005</td>\n      <td>SWA</td>\n      <td>1</td>\n      <td>0</td>\n      <td>24</td>\n      <td>1</td>\n      <td>1.0</td>\n      <td>1</td>\n    </tr>\n    <tr>\n      <th>...</th>\n      <td>...</td>\n      <td>...</td>\n      <td>...</td>\n      <td>...</td>\n      <td>...</td>\n      <td>...</td>\n      <td>...</td>\n      <td>...</td>\n    </tr>\n    <tr>\n      <th>1405</th>\n      <td>sub-1406</td>\n      <td>CIN</td>\n      <td>14</td>\n      <td>5</td>\n      <td>36</td>\n      <td>1</td>\n      <td>1.0</td>\n      <td>8</td>\n    </tr>\n    <tr>\n      <th>1406</th>\n      <td>sub-1407</td>\n      <td>CIN</td>\n      <td>14</td>\n      <td>5</td>\n      <td>56</td>\n      <td>2</td>\n      <td>1.0</td>\n      <td>8</td>\n    </tr>\n    <tr>\n      <th>1407</th>\n      <td>sub-1408</td>\n      <td>CIN</td>\n      <td>14</td>\n      <td>5</td>\n      <td>34</td>\n      <td>2</td>\n      <td>1.0</td>\n      <td>8</td>\n    </tr>\n    <tr>\n      <th>1408</th>\n      <td>sub-1409</td>\n      <td>CIN</td>\n      <td>14</td>\n      <td>5</td>\n      <td>56</td>\n      <td>1</td>\n      <td>1.0</td>\n      <td>8</td>\n    </tr>\n    <tr>\n      <th>1409</th>\n      <td>sub-1410</td>\n      <td>CIN</td>\n      <td>14</td>\n      <td>5</td>\n      <td>27</td>\n      <td>1</td>\n      <td>1.0</td>\n      <td>8</td>\n    </tr>\n  </tbody>\n</table>\n<p>1410 rows × 8 columns</p>\n</div>"
     },
     "metadata": {},
     "execution_count": 2
    }
   ],
   "source": [
    "participants = pd.read_table(dataset_location+'participants.tsv')\n",
    "participants"
   ]
  },
  {
   "cell_type": "code",
   "execution_count": 3,
   "metadata": {},
   "outputs": [],
   "source": [
    "healthy_controls = participants[participants['diag'] == 0]\n",
    "mdd_patients = participants[participants['diag'] == 2]"
   ]
  },
  {
   "cell_type": "code",
   "execution_count": 4,
   "metadata": {},
   "outputs": [
    {
     "output_type": "execute_result",
     "data": {
      "text/plain": [
       "COI    71\n",
       "UTO    62\n",
       "HUH    57\n",
       "HKH    33\n",
       "KUT    16\n",
       "HRC    16\n",
       "Name: site, dtype: int64"
      ]
     },
     "metadata": {},
     "execution_count": 4
    }
   ],
   "source": [
    "mdd_patients['site'].value_counts()"
   ]
  },
  {
   "cell_type": "code",
   "execution_count": 5,
   "metadata": {},
   "outputs": [
    {
     "output_type": "execute_result",
     "data": {
      "text/plain": [
       "KUT    159\n",
       "COI    124\n",
       "SWA    101\n",
       "UTO     96\n",
       "KTT     75\n",
       "HUH     67\n",
       "HRC     49\n",
       "CIN     39\n",
       "ATV     39\n",
       "HKH     29\n",
       "ATT     13\n",
       "Name: site, dtype: int64"
      ]
     },
     "metadata": {},
     "execution_count": 5
    }
   ],
   "source": [
    "healthy_controls['site'].value_counts()"
   ]
  },
  {
   "source": [
    "COI seems like a nice site to take a subset from, and it's the first site used in the discovery dataset in the paper. 124 HC and 70 MDD are used from this site in the paper, which matches the estimates above. Maybe 1 MDD patient had to be filtered out."
   ],
   "cell_type": "markdown",
   "metadata": {}
  },
  {
   "cell_type": "code",
   "execution_count": 6,
   "metadata": {},
   "outputs": [],
   "source": [
    "sample_size = 20\n",
    "healthy_controls_sample = healthy_controls[healthy_controls['site'] == 'COI'].sample(n=sample_size)\n",
    "mdd_patients_sample = mdd_patients[mdd_patients['site'] == 'COI'].sample(n=sample_size)"
   ]
  },
  {
   "cell_type": "code",
   "execution_count": 7,
   "metadata": {},
   "outputs": [
    {
     "output_type": "execute_result",
     "data": {
      "text/plain": [
       "    participant_id site  protocol  diag  age  sex  hand  sup\n",
       "581       sub-0582  COI         5     0   65    1   1.0    2\n",
       "659       sub-0660  COI         5     0   49    2   1.0    2\n",
       "618       sub-0619  COI         5     0   26    1   1.0    2\n",
       "651       sub-0652  COI         5     0   35    2   1.0    2\n",
       "575       sub-0576  COI         5     0   60    1   1.0    2\n",
       "547       sub-0548  COI         5     0   67    1   1.0    2\n",
       "612       sub-0613  COI         5     0   56    1   1.0    2\n",
       "577       sub-0578  COI         5     0   68    1   1.0    2\n",
       "643       sub-0644  COI         5     0   48    2   1.0    2\n",
       "628       sub-0629  COI         5     0   69    2   1.0    2\n",
       "660       sub-0661  COI         5     0   45    2   1.0    2\n",
       "551       sub-0552  COI         5     0   61    2   1.0    2\n",
       "645       sub-0646  COI         5     0   20    2   1.0    2\n",
       "662       sub-0663  COI         5     0   61    2   1.0    2\n",
       "647       sub-0648  COI         5     0   22    2   1.0    2\n",
       "666       sub-0667  COI         5     0   43    2   1.0    2\n",
       "490       sub-0491  COI         5     0   38    1   1.0    2\n",
       "634       sub-0635  COI         5     0   43    2   1.0    2\n",
       "655       sub-0656  COI         5     0   48    2   1.0    2\n",
       "587       sub-0588  COI         5     0   79    2   1.0    2"
      ],
      "text/html": "<div>\n<style scoped>\n    .dataframe tbody tr th:only-of-type {\n        vertical-align: middle;\n    }\n\n    .dataframe tbody tr th {\n        vertical-align: top;\n    }\n\n    .dataframe thead th {\n        text-align: right;\n    }\n</style>\n<table border=\"1\" class=\"dataframe\">\n  <thead>\n    <tr style=\"text-align: right;\">\n      <th></th>\n      <th>participant_id</th>\n      <th>site</th>\n      <th>protocol</th>\n      <th>diag</th>\n      <th>age</th>\n      <th>sex</th>\n      <th>hand</th>\n      <th>sup</th>\n    </tr>\n  </thead>\n  <tbody>\n    <tr>\n      <th>581</th>\n      <td>sub-0582</td>\n      <td>COI</td>\n      <td>5</td>\n      <td>0</td>\n      <td>65</td>\n      <td>1</td>\n      <td>1.0</td>\n      <td>2</td>\n    </tr>\n    <tr>\n      <th>659</th>\n      <td>sub-0660</td>\n      <td>COI</td>\n      <td>5</td>\n      <td>0</td>\n      <td>49</td>\n      <td>2</td>\n      <td>1.0</td>\n      <td>2</td>\n    </tr>\n    <tr>\n      <th>618</th>\n      <td>sub-0619</td>\n      <td>COI</td>\n      <td>5</td>\n      <td>0</td>\n      <td>26</td>\n      <td>1</td>\n      <td>1.0</td>\n      <td>2</td>\n    </tr>\n    <tr>\n      <th>651</th>\n      <td>sub-0652</td>\n      <td>COI</td>\n      <td>5</td>\n      <td>0</td>\n      <td>35</td>\n      <td>2</td>\n      <td>1.0</td>\n      <td>2</td>\n    </tr>\n    <tr>\n      <th>575</th>\n      <td>sub-0576</td>\n      <td>COI</td>\n      <td>5</td>\n      <td>0</td>\n      <td>60</td>\n      <td>1</td>\n      <td>1.0</td>\n      <td>2</td>\n    </tr>\n    <tr>\n      <th>547</th>\n      <td>sub-0548</td>\n      <td>COI</td>\n      <td>5</td>\n      <td>0</td>\n      <td>67</td>\n      <td>1</td>\n      <td>1.0</td>\n      <td>2</td>\n    </tr>\n    <tr>\n      <th>612</th>\n      <td>sub-0613</td>\n      <td>COI</td>\n      <td>5</td>\n      <td>0</td>\n      <td>56</td>\n      <td>1</td>\n      <td>1.0</td>\n      <td>2</td>\n    </tr>\n    <tr>\n      <th>577</th>\n      <td>sub-0578</td>\n      <td>COI</td>\n      <td>5</td>\n      <td>0</td>\n      <td>68</td>\n      <td>1</td>\n      <td>1.0</td>\n      <td>2</td>\n    </tr>\n    <tr>\n      <th>643</th>\n      <td>sub-0644</td>\n      <td>COI</td>\n      <td>5</td>\n      <td>0</td>\n      <td>48</td>\n      <td>2</td>\n      <td>1.0</td>\n      <td>2</td>\n    </tr>\n    <tr>\n      <th>628</th>\n      <td>sub-0629</td>\n      <td>COI</td>\n      <td>5</td>\n      <td>0</td>\n      <td>69</td>\n      <td>2</td>\n      <td>1.0</td>\n      <td>2</td>\n    </tr>\n    <tr>\n      <th>660</th>\n      <td>sub-0661</td>\n      <td>COI</td>\n      <td>5</td>\n      <td>0</td>\n      <td>45</td>\n      <td>2</td>\n      <td>1.0</td>\n      <td>2</td>\n    </tr>\n    <tr>\n      <th>551</th>\n      <td>sub-0552</td>\n      <td>COI</td>\n      <td>5</td>\n      <td>0</td>\n      <td>61</td>\n      <td>2</td>\n      <td>1.0</td>\n      <td>2</td>\n    </tr>\n    <tr>\n      <th>645</th>\n      <td>sub-0646</td>\n      <td>COI</td>\n      <td>5</td>\n      <td>0</td>\n      <td>20</td>\n      <td>2</td>\n      <td>1.0</td>\n      <td>2</td>\n    </tr>\n    <tr>\n      <th>662</th>\n      <td>sub-0663</td>\n      <td>COI</td>\n      <td>5</td>\n      <td>0</td>\n      <td>61</td>\n      <td>2</td>\n      <td>1.0</td>\n      <td>2</td>\n    </tr>\n    <tr>\n      <th>647</th>\n      <td>sub-0648</td>\n      <td>COI</td>\n      <td>5</td>\n      <td>0</td>\n      <td>22</td>\n      <td>2</td>\n      <td>1.0</td>\n      <td>2</td>\n    </tr>\n    <tr>\n      <th>666</th>\n      <td>sub-0667</td>\n      <td>COI</td>\n      <td>5</td>\n      <td>0</td>\n      <td>43</td>\n      <td>2</td>\n      <td>1.0</td>\n      <td>2</td>\n    </tr>\n    <tr>\n      <th>490</th>\n      <td>sub-0491</td>\n      <td>COI</td>\n      <td>5</td>\n      <td>0</td>\n      <td>38</td>\n      <td>1</td>\n      <td>1.0</td>\n      <td>2</td>\n    </tr>\n    <tr>\n      <th>634</th>\n      <td>sub-0635</td>\n      <td>COI</td>\n      <td>5</td>\n      <td>0</td>\n      <td>43</td>\n      <td>2</td>\n      <td>1.0</td>\n      <td>2</td>\n    </tr>\n    <tr>\n      <th>655</th>\n      <td>sub-0656</td>\n      <td>COI</td>\n      <td>5</td>\n      <td>0</td>\n      <td>48</td>\n      <td>2</td>\n      <td>1.0</td>\n      <td>2</td>\n    </tr>\n    <tr>\n      <th>587</th>\n      <td>sub-0588</td>\n      <td>COI</td>\n      <td>5</td>\n      <td>0</td>\n      <td>79</td>\n      <td>2</td>\n      <td>1.0</td>\n      <td>2</td>\n    </tr>\n  </tbody>\n</table>\n</div>"
     },
     "metadata": {},
     "execution_count": 7
    }
   ],
   "source": [
    "healthy_controls_sample"
   ]
  },
  {
   "cell_type": "code",
   "execution_count": 8,
   "metadata": {},
   "outputs": [
    {
     "output_type": "execute_result",
     "data": {
      "text/plain": [
       "     participant_id site  protocol  diag  age  sex  hand  sup\n",
       "520        sub-0521  COI         5     2   43    2   1.0    2\n",
       "1013       sub-1014  COI         5     2   46    2   1.0    2\n",
       "493        sub-0494  COI         5     2   42    2   1.0    2\n",
       "1012       sub-1013  COI         5     2   31    1   1.0    2\n",
       "580        sub-0581  COI         5     2   41    2   1.0    2\n",
       "540        sub-0541  COI         5     2   71    2   1.0    2\n",
       "592        sub-0593  COI         5     2   75    2   1.0    2\n",
       "560        sub-0561  COI         5     2   47    1   1.0    2\n",
       "495        sub-0496  COI         5     2   33    1   1.0    2\n",
       "584        sub-0585  COI         5     2   56    1   1.0    2\n",
       "582        sub-0583  COI         5     2   33    2   1.0    2\n",
       "542        sub-0543  COI         5     2   41    2   1.0    2\n",
       "574        sub-0575  COI         5     2   33    2   1.0    2\n",
       "506        sub-0507  COI         5     2   46    2   1.0    2\n",
       "1011       sub-1012  COI         5     2   40    1   1.0    2\n",
       "504        sub-0505  COI         5     2   43    1   1.0    2\n",
       "568        sub-0569  COI         5     2   69    2   1.0    2\n",
       "588        sub-0589  COI         5     2   49    1   1.0    2\n",
       "594        sub-0595  COI         5     2   48    2   1.0    2\n",
       "510        sub-0511  COI         5     2   36    1   1.0    2"
      ],
      "text/html": "<div>\n<style scoped>\n    .dataframe tbody tr th:only-of-type {\n        vertical-align: middle;\n    }\n\n    .dataframe tbody tr th {\n        vertical-align: top;\n    }\n\n    .dataframe thead th {\n        text-align: right;\n    }\n</style>\n<table border=\"1\" class=\"dataframe\">\n  <thead>\n    <tr style=\"text-align: right;\">\n      <th></th>\n      <th>participant_id</th>\n      <th>site</th>\n      <th>protocol</th>\n      <th>diag</th>\n      <th>age</th>\n      <th>sex</th>\n      <th>hand</th>\n      <th>sup</th>\n    </tr>\n  </thead>\n  <tbody>\n    <tr>\n      <th>520</th>\n      <td>sub-0521</td>\n      <td>COI</td>\n      <td>5</td>\n      <td>2</td>\n      <td>43</td>\n      <td>2</td>\n      <td>1.0</td>\n      <td>2</td>\n    </tr>\n    <tr>\n      <th>1013</th>\n      <td>sub-1014</td>\n      <td>COI</td>\n      <td>5</td>\n      <td>2</td>\n      <td>46</td>\n      <td>2</td>\n      <td>1.0</td>\n      <td>2</td>\n    </tr>\n    <tr>\n      <th>493</th>\n      <td>sub-0494</td>\n      <td>COI</td>\n      <td>5</td>\n      <td>2</td>\n      <td>42</td>\n      <td>2</td>\n      <td>1.0</td>\n      <td>2</td>\n    </tr>\n    <tr>\n      <th>1012</th>\n      <td>sub-1013</td>\n      <td>COI</td>\n      <td>5</td>\n      <td>2</td>\n      <td>31</td>\n      <td>1</td>\n      <td>1.0</td>\n      <td>2</td>\n    </tr>\n    <tr>\n      <th>580</th>\n      <td>sub-0581</td>\n      <td>COI</td>\n      <td>5</td>\n      <td>2</td>\n      <td>41</td>\n      <td>2</td>\n      <td>1.0</td>\n      <td>2</td>\n    </tr>\n    <tr>\n      <th>540</th>\n      <td>sub-0541</td>\n      <td>COI</td>\n      <td>5</td>\n      <td>2</td>\n      <td>71</td>\n      <td>2</td>\n      <td>1.0</td>\n      <td>2</td>\n    </tr>\n    <tr>\n      <th>592</th>\n      <td>sub-0593</td>\n      <td>COI</td>\n      <td>5</td>\n      <td>2</td>\n      <td>75</td>\n      <td>2</td>\n      <td>1.0</td>\n      <td>2</td>\n    </tr>\n    <tr>\n      <th>560</th>\n      <td>sub-0561</td>\n      <td>COI</td>\n      <td>5</td>\n      <td>2</td>\n      <td>47</td>\n      <td>1</td>\n      <td>1.0</td>\n      <td>2</td>\n    </tr>\n    <tr>\n      <th>495</th>\n      <td>sub-0496</td>\n      <td>COI</td>\n      <td>5</td>\n      <td>2</td>\n      <td>33</td>\n      <td>1</td>\n      <td>1.0</td>\n      <td>2</td>\n    </tr>\n    <tr>\n      <th>584</th>\n      <td>sub-0585</td>\n      <td>COI</td>\n      <td>5</td>\n      <td>2</td>\n      <td>56</td>\n      <td>1</td>\n      <td>1.0</td>\n      <td>2</td>\n    </tr>\n    <tr>\n      <th>582</th>\n      <td>sub-0583</td>\n      <td>COI</td>\n      <td>5</td>\n      <td>2</td>\n      <td>33</td>\n      <td>2</td>\n      <td>1.0</td>\n      <td>2</td>\n    </tr>\n    <tr>\n      <th>542</th>\n      <td>sub-0543</td>\n      <td>COI</td>\n      <td>5</td>\n      <td>2</td>\n      <td>41</td>\n      <td>2</td>\n      <td>1.0</td>\n      <td>2</td>\n    </tr>\n    <tr>\n      <th>574</th>\n      <td>sub-0575</td>\n      <td>COI</td>\n      <td>5</td>\n      <td>2</td>\n      <td>33</td>\n      <td>2</td>\n      <td>1.0</td>\n      <td>2</td>\n    </tr>\n    <tr>\n      <th>506</th>\n      <td>sub-0507</td>\n      <td>COI</td>\n      <td>5</td>\n      <td>2</td>\n      <td>46</td>\n      <td>2</td>\n      <td>1.0</td>\n      <td>2</td>\n    </tr>\n    <tr>\n      <th>1011</th>\n      <td>sub-1012</td>\n      <td>COI</td>\n      <td>5</td>\n      <td>2</td>\n      <td>40</td>\n      <td>1</td>\n      <td>1.0</td>\n      <td>2</td>\n    </tr>\n    <tr>\n      <th>504</th>\n      <td>sub-0505</td>\n      <td>COI</td>\n      <td>5</td>\n      <td>2</td>\n      <td>43</td>\n      <td>1</td>\n      <td>1.0</td>\n      <td>2</td>\n    </tr>\n    <tr>\n      <th>568</th>\n      <td>sub-0569</td>\n      <td>COI</td>\n      <td>5</td>\n      <td>2</td>\n      <td>69</td>\n      <td>2</td>\n      <td>1.0</td>\n      <td>2</td>\n    </tr>\n    <tr>\n      <th>588</th>\n      <td>sub-0589</td>\n      <td>COI</td>\n      <td>5</td>\n      <td>2</td>\n      <td>49</td>\n      <td>1</td>\n      <td>1.0</td>\n      <td>2</td>\n    </tr>\n    <tr>\n      <th>594</th>\n      <td>sub-0595</td>\n      <td>COI</td>\n      <td>5</td>\n      <td>2</td>\n      <td>48</td>\n      <td>2</td>\n      <td>1.0</td>\n      <td>2</td>\n    </tr>\n    <tr>\n      <th>510</th>\n      <td>sub-0511</td>\n      <td>COI</td>\n      <td>5</td>\n      <td>2</td>\n      <td>36</td>\n      <td>1</td>\n      <td>1.0</td>\n      <td>2</td>\n    </tr>\n  </tbody>\n</table>\n</div>"
     },
     "metadata": {},
     "execution_count": 8
    }
   ],
   "source": [
    "mdd_patients_sample"
   ]
  },
  {
   "cell_type": "code",
   "execution_count": 9,
   "metadata": {},
   "outputs": [],
   "source": [
    "healthy_controls_sample_ids = sorted([int(id_str.split('-')[1]) for id_str in healthy_controls_sample['participant_id'].to_list()])\n",
    "mdd_patients_sample_ids = sorted([int(id_str.split('-')[1]) for id_str in mdd_patients_sample['participant_id'].to_list()])\n",
    "with open('hc_sample.txt','w') as f:\n",
    "    f.write(str(healthy_controls_sample_ids))\n",
    "with open('mdd_sample.txt','w') as f:\n",
    "    f.write(str(mdd_patients_sample_ids))"
   ]
  }
 ]
}